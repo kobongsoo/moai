{
 "cells": [
  {
   "cell_type": "code",
   "execution_count": null,
   "id": "0c8f253c-fbc1-4c46-b1e9-9ad8812b3b55",
   "metadata": {},
   "outputs": [],
   "source": [
    "import torch\n",
    "from datasets import Dataset, load_dataset\n",
    "from transformers import AutoTokenizer, AutoModelForCausalLM, BitsAndBytesConfig, pipeline, TrainingArguments\n",
    "from peft import LoraConfig, PeftModel\n",
    "from trl import SFTTrainer"
   ]
  },
  {
   "cell_type": "code",
   "execution_count": null,
   "id": "7f5e0726-ce60-4e96-9ee9-aa4d47aa24c9",
   "metadata": {},
   "outputs": [],
   "source": [
    "# 데이터셋 로딩\n",
    "dataset = load_dataset(\"lmqg/qg_koquad\")"
   ]
  },
  {
   "cell_type": "code",
   "execution_count": null,
   "id": "3de24ac9-2c09-4623-a396-fec26efbd6ca",
   "metadata": {},
   "outputs": [],
   "source": [
    "dataset"
   ]
  },
  {
   "cell_type": "code",
   "execution_count": null,
   "id": "79a555b1-5db6-4496-9171-3dd8803fb989",
   "metadata": {},
   "outputs": [],
   "source": [
    "# gemma 모델 훈련 프롬프트 만드는 함수 \n",
    "# => 훈련모델 종류 및 데이터셋 종류에 따라 커스터마이징 해야 함.\n",
    "def generate_prompt(example):\n",
    "    prompt_list = []\n",
    "    for i in range(len(example['paragraph'])):\n",
    " \n",
    "        question = example['paragraph'][0] + '\\n\\nQ:' + example['question'][0]+'\\nA:'\n",
    "        answer = example['sentence'][0]\n",
    "        \n",
    "        prompt_list.append(r\"\"\"<bos><start_of_turn>user\n",
    "                            {}<end_of_turn>\n",
    "                            <start_of_turn>model\n",
    "                            {}<end_of_turn><eos>\"\"\".format(question, answer))\n",
    "    return prompt_list\n"
   ]
  },
  {
   "cell_type": "code",
   "execution_count": null,
   "id": "7c6244d4-bb87-4f20-b56c-ef17e848fb17",
   "metadata": {},
   "outputs": [],
   "source": [
    "train_data = dataset['train']\n",
    "print(generate_prompt(train_data[:10]))"
   ]
  },
  {
   "cell_type": "code",
   "execution_count": null,
   "id": "0434a9e8-4acd-431e-906f-7515d3a45397",
   "metadata": {},
   "outputs": [],
   "source": [
    "# QLoRA 설정\n",
    "lora_config = LoraConfig(\n",
    "    r=6,\n",
    "    target_modules=[\"q_proj\", \"o_proj\", \"k_proj\", \"v_proj\", \"gate_proj\", \"up_proj\", \"down_proj\"],\n",
    "    task_type=\"CAUSAL_LM\",\n",
    ")\n",
    "\n",
    "bnb_config = BitsAndBytesConfig(\n",
    "    load_in_4bit=True,\n",
    "    bnb_4bit_quant_type=\"nf4\",\n",
    "    bnb_4bit_compute_dtype=torch.float16\n",
    ")"
   ]
  },
  {
   "cell_type": "code",
   "execution_count": null,
   "id": "3417dc7c-9ba8-47a5-a18e-8d36189d9086",
   "metadata": {},
   "outputs": [],
   "source": [
    "# 모델 로딩\n",
    "BASE_MODEL = \"google/gemma-2b-it\"\n",
    "model = AutoModelForCausalLM.from_pretrained(BASE_MODEL, device_map=\"auto\", quantization_config=bnb_config)\n",
    "tokenizer = AutoTokenizer.from_pretrained(BASE_MODEL, add_special_tokens=True)\n",
    "tokenizer.padding_side = 'right'"
   ]
  },
  {
   "cell_type": "code",
   "execution_count": null,
   "id": "65947211-6b41-4472-8a59-ff96c2d5e6d2",
   "metadata": {},
   "outputs": [],
   "source": [
    "# Trainer 설정\n",
    "trainer = SFTTrainer(\n",
    "    model=model,\n",
    "    train_dataset=train_data,\n",
    "    max_seq_length=512,\n",
    "    args=TrainingArguments(\n",
    "        output_dir=\"outputs\",\n",
    "        num_train_epochs = 1,\n",
    "        #max_steps=3000,\n",
    "        per_device_train_batch_size=2,  # batch_size=1 일때 10G, 2면 16G\n",
    "        gradient_accumulation_steps=4,\n",
    "        optim=\"paged_adamw_8bit\",\n",
    "        warmup_steps=0.03,\n",
    "        learning_rate=2e-4,\n",
    "        fp16=True,\n",
    "        logging_steps=100,\n",
    "        push_to_hub=False,\n",
    "        report_to='none',\n",
    "    ),\n",
    "    peft_config=lora_config,\n",
    "    formatting_func=generate_prompt,\n",
    ")"
   ]
  },
  {
   "cell_type": "code",
   "execution_count": null,
   "id": "9a46bc12-67a2-4d10-9d72-883ee46daaa5",
   "metadata": {},
   "outputs": [],
   "source": [
    "# 훈련시작\n",
    "trainer.train()"
   ]
  },
  {
   "cell_type": "code",
   "execution_count": null,
   "id": "22993b7d-c23b-4a4e-a5a6-aeb1402d56b5",
   "metadata": {},
   "outputs": [],
   "source": [
    "# loara_adapter 저장\n",
    "ADAPTER_MODEL = \"lora_adapter\"\n",
    "trainer.model.save_pretrained(ADAPTER_MODEL)"
   ]
  },
  {
   "cell_type": "code",
   "execution_count": null,
   "id": "a1339bfb-796d-421f-90d0-c925329a5667",
   "metadata": {},
   "outputs": [],
   "source": [
    "# 파일저장 확인\n",
    "!ls -alh lora_adapter"
   ]
  },
  {
   "cell_type": "code",
   "execution_count": null,
   "id": "5a03cdfb-db25-47d9-8e25-7560fd2a2f0e",
   "metadata": {},
   "outputs": [],
   "source": [
    "# 원본모델과 lora_adapter 합쳐서 1개 모델을 만듬.\n",
    "model = AutoModelForCausalLM.from_pretrained(BASE_MODEL, device_map='auto', torch_dtype=torch.float16)\n",
    "model = PeftModel.from_pretrained(model, ADAPTER_MODEL, device_map='auto', torch_dtype=torch.float16)\n",
    "\n",
    "model = model.merge_and_unload()\n",
    "model.save_pretrained('gemma-2b-it-qa-ko')"
   ]
  },
  {
   "cell_type": "code",
   "execution_count": null,
   "id": "fac39193-8651-4239-bd3f-5fd13118bc56",
   "metadata": {},
   "outputs": [],
   "source": [
    "# 평가\n"
   ]
  }
 ],
 "metadata": {
  "kernelspec": {
   "display_name": "Python 3 (ipykernel)",
   "language": "python",
   "name": "python3"
  },
  "language_info": {
   "codemirror_mode": {
    "name": "ipython",
    "version": 3
   },
   "file_extension": ".py",
   "mimetype": "text/x-python",
   "name": "python",
   "nbconvert_exporter": "python",
   "pygments_lexer": "ipython3",
   "version": "3.9.7"
  }
 },
 "nbformat": 4,
 "nbformat_minor": 5
}
