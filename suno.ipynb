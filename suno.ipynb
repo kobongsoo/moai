{
 "cells": [
  {
   "cell_type": "code",
   "execution_count": null,
   "id": "f634d1c2-5419-43f8-9d5c-661b9da5c737",
   "metadata": {},
   "outputs": [],
   "source": [
    "#%pip install openai "
   ]
  },
  {
   "cell_type": "code",
   "execution_count": 2,
   "id": "c596e6f4-52d4-4f0b-8031-22f7891dfba1",
   "metadata": {},
   "outputs": [
    {
     "ename": "KeyError",
     "evalue": "'OPENAI_API_KEY'",
     "output_type": "error",
     "traceback": [
      "\u001b[0;31m---------------------------------------------------------------------------\u001b[0m",
      "\u001b[0;31mKeyError\u001b[0m                                  Traceback (most recent call last)",
      "Cell \u001b[0;32mIn[2], line 8\u001b[0m\n\u001b[1;32m      5\u001b[0m \u001b[38;5;28;01mfrom\u001b[39;00m \u001b[38;5;21;01mdotenv\u001b[39;00m \u001b[38;5;28;01mimport\u001b[39;00m load_dotenv\n\u001b[1;32m      7\u001b[0m load_dotenv() \u001b[38;5;66;03m# API 키 정보 로드\u001b[39;00m\n\u001b[0;32m----> 8\u001b[0m \u001b[38;5;28mprint\u001b[39m(\u001b[38;5;124mf\u001b[39m\u001b[38;5;124m\"\u001b[39m\u001b[38;5;124m[API KEY]\u001b[39m\u001b[38;5;130;01m\\n\u001b[39;00m\u001b[38;5;132;01m{\u001b[39;00mos\u001b[38;5;241m.\u001b[39menviron[\u001b[38;5;124m'\u001b[39m\u001b[38;5;124mOPENAI_API_KEY\u001b[39m\u001b[38;5;124m'\u001b[39m]\u001b[38;5;132;01m}\u001b[39;00m\u001b[38;5;124m\"\u001b[39m)\n",
      "File \u001b[0;32m/usr/local/lib/python3.9/os.py:679\u001b[0m, in \u001b[0;36m_Environ.__getitem__\u001b[0;34m(self, key)\u001b[0m\n\u001b[1;32m    676\u001b[0m     value \u001b[38;5;241m=\u001b[39m \u001b[38;5;28mself\u001b[39m\u001b[38;5;241m.\u001b[39m_data[\u001b[38;5;28mself\u001b[39m\u001b[38;5;241m.\u001b[39mencodekey(key)]\n\u001b[1;32m    677\u001b[0m \u001b[38;5;28;01mexcept\u001b[39;00m \u001b[38;5;167;01mKeyError\u001b[39;00m:\n\u001b[1;32m    678\u001b[0m     \u001b[38;5;66;03m# raise KeyError with the original key value\u001b[39;00m\n\u001b[0;32m--> 679\u001b[0m     \u001b[38;5;28;01mraise\u001b[39;00m \u001b[38;5;167;01mKeyError\u001b[39;00m(key) \u001b[38;5;28;01mfrom\u001b[39;00m \u001b[38;5;28;01mNone\u001b[39;00m\n\u001b[1;32m    680\u001b[0m \u001b[38;5;28;01mreturn\u001b[39;00m \u001b[38;5;28mself\u001b[39m\u001b[38;5;241m.\u001b[39mdecodevalue(value)\n",
      "\u001b[0;31mKeyError\u001b[0m: 'OPENAI_API_KEY'"
     ]
    }
   ],
   "source": [
    "# 루트경로에 .env 파일을 만들고, OPENAI_API_KEY='{API_KEY}',  HUGGINGFACEHUB_API_TOKEN='{API_TOKEN}'식으로 각각 입력한다.\n",
    "# \n",
    "# API 키를 환경변수로 관리하기 위한 .env설정 파일 로딩\n",
    "import os\n",
    "from dotenv import load_dotenv\n",
    "\n",
    "load_dotenv() # API 키 정보 로드\n",
    "print(f\"[API KEY]\\n{os.environ['OPENAI_API_KEY']}\")"
   ]
  },
  {
   "cell_type": "code",
   "execution_count": 1,
   "id": "ababcdc1-6b64-4bfd-94f6-14ede4e047ae",
   "metadata": {},
   "outputs": [
    {
     "name": "stdout",
     "output_type": "stream",
     "text": [
      "Requirement already satisfied: requests in /usr/local/lib/python3.9/site-packages (2.31.0)\n",
      "Requirement already satisfied: pillow in /usr/local/lib/python3.9/site-packages (10.1.0)\n",
      "Requirement already satisfied: charset-normalizer<4,>=2 in /usr/local/lib/python3.9/site-packages (from requests) (3.3.2)\n",
      "Requirement already satisfied: idna<4,>=2.5 in /usr/local/lib/python3.9/site-packages (from requests) (2.10)\n",
      "Requirement already satisfied: urllib3<3,>=1.21.1 in /usr/local/lib/python3.9/site-packages (from requests) (1.26.6)\n",
      "Requirement already satisfied: certifi>=2017.4.17 in /usr/local/lib/python3.9/site-packages (from requests) (2023.11.17)\n",
      "\u001b[33mWARNING: Running pip as the 'root' user can result in broken permissions and conflicting behaviour with the system package manager. It is recommended to use a virtual environment instead: https://pip.pypa.io/warnings/venv\u001b[0m\u001b[33m\n",
      "\u001b[0m\n",
      "\u001b[1m[\u001b[0m\u001b[34;49mnotice\u001b[0m\u001b[1;39;49m]\u001b[0m\u001b[39;49m A new release of pip is available: \u001b[0m\u001b[31;49m23.3.1\u001b[0m\u001b[39;49m -> \u001b[0m\u001b[32;49m24.0\u001b[0m\n",
      "\u001b[1m[\u001b[0m\u001b[34;49mnotice\u001b[0m\u001b[1;39;49m]\u001b[0m\u001b[39;49m To update, run: \u001b[0m\u001b[32;49mpip install --upgrade pip\u001b[0m\n",
      "Note: you may need to restart the kernel to use updated packages.\n"
     ]
    }
   ],
   "source": [
    "%pip install requests pillow"
   ]
  },
  {
   "cell_type": "code",
   "execution_count": null,
   "id": "3cb4c795-c0ff-4237-bf71-f6a719a1b11b",
   "metadata": {},
   "outputs": [],
   "source": [
    "# 사진의 의미를 자세히 설명해주세요. 한국어로 설명해주세요. 최대 5문장으로 설명을 간결하게 해주세요.\n",
    "query = 'Please explain in detail the meaning of the photo. Please explain in Korean. Please keep your description concise with a maximum of 5 sentences.'"
   ]
  },
  {
   "cell_type": "code",
   "execution_count": null,
   "id": "d1c0b6d8-e2f1-4a8e-ae55-aff0d4a0ffe2",
   "metadata": {},
   "outputs": [],
   "source": [
    "# 카카오톡 url 이미지 경로\n",
    "url = \"https://talk.kakaocdn.net/dna/blJllF/bl6S3GjcuQo/TEeZqMPzV9KHm8uO6JnOVh/i_62fee87e33df.jpeg?credential=zf3biCPbmWRjbqf40YGePFLewdou7TIK&expires=1812587879&signature=gQrVVjT3ADAQRf6CGrOnh1z5y6Y%3D\"\n",
    "#url = '''http://k.kakaocdn.net/dn/BW8Ng/btsA7UjIXma/Eo2vvDdqrlS1dsFLjFMwJk/2x1.jpg'''"
   ]
  },
  {
   "cell_type": "code",
   "execution_count": null,
   "id": "7709a710-9d11-47c8-ae2a-9f6567b49986",
   "metadata": {},
   "outputs": [],
   "source": [
    "# %pip install requests pillow\n",
    "# url이미지 다운로드 후 512*512 사이즈 이상이면 512*512 사이즈로 줄여서 파일 저장\n",
    "import os\n",
    "import time\n",
    "import requests\n",
    "from PIL import Image\n",
    "from io import BytesIO\n",
    "import uuid\n",
    "import datetime\n",
    "\n",
    "def download_and_save_image(url, max_size=(512, 512)):\n",
    "    \n",
    "    # 랜덤 파일 이름 생성 (downloads/{랜덤}_{날짜}.jpg)\n",
    "    random_filename = f\"{uuid.uuid4().hex}_{datetime.datetime.now().strftime('%Y%m%d%H%M%S')}.jpg\"\n",
    "    save_path = f\"downloads/{random_filename}\"\n",
    "    # downloads 폴더 없으면 생성\n",
    "    os.makedirs(\"downloads\", exist_ok=True)\n",
    "    \n",
    "    # 이미지 다운로드\n",
    "    response = requests.get(url)\n",
    "    if response.status_code == 200:\n",
    "        # 이미지 열기\n",
    "        img = Image.open(BytesIO(response.content))\n",
    "\n",
    "        # 이미지 크기 확인 및 조정\n",
    "        if img.size[0] > max_size[0] or img.size[1] > max_size[1]:\n",
    "            img.thumbnail(max_size)\n",
    "\n",
    "        # JPG 형식으로 저장\n",
    "        img.save(save_path, \"JPEG\")\n",
    "        print(f\"이미지가 성공적으로 저장되었습니다: {save_path}\")\n",
    "    else:\n",
    "        print(f\"이미지 다운로드 실패. 상태 코드: {response.status_code}\")\n",
    "\n",
    "    return save_path\n",
    "\n",
    "# 사용 예시\n",
    "#url = \"https://talk.kakaocdn.net/dna/blJllF/bl6S3GjcuQo/TEeZqMPzV9KHm8uO6JnOVh/i_62fee87e33df.jpeg?credential=zf3biCPbmWRjbqf40YGePFLewdou7TIK&expires=1812587879&signature=gQrVVjT3ADAQRf6CGrOnh1z5y6Y%3D\"\n",
    "\n",
    "start_time = time.time()\n",
    "\n",
    "saved_image_path = download_and_save_image(url)\n",
    "\n",
    "# 소요된 시간을 계산합니다.\n",
    "end_time = time.time()\n",
    "elapsed_time = \"{:.2f}\".format(end_time - start_time)\n",
    "print(f'time:{elapsed_time}')\n",
    "\n",
    "print(f\"저장된 이미지 경로: {saved_image_path}\")"
   ]
  },
  {
   "cell_type": "code",
   "execution_count": null,
   "id": "3868a863-6528-4fb1-8fdf-b70cd6b8f417",
   "metadata": {},
   "outputs": [],
   "source": [
    "# openai vision으로 이미지 의미를 얻어옴\n",
    "# => 모델은 gpt-4o 이\n",
    "# 출처 : https://platform.openai.com/docs/guides/vision\n",
    "import time\n",
    "import base64\n",
    "import requests\n",
    "\n",
    "start_time = time.time()\n",
    "\n",
    "# Function to encode the image\n",
    "def encode_image(image_path):\n",
    "  with open(image_path, \"rb\") as image_file:\n",
    "    return base64.b64encode(image_file.read()).decode('utf-8')\n",
    "\n",
    "# Path to your image\n",
    "image_path = saved_image_path\n",
    "\n",
    "# Getting the base64 string\n",
    "base64_image = encode_image(image_path)\n",
    "\n",
    "headers = {\n",
    "  \"Content-Type\": \"application/json\",\n",
    "  \"Authorization\": f\"Bearer {os.environ['OPENAI_API_KEY']}\"\n",
    "}\n",
    "\n",
    "payload = {\n",
    "  \"model\": \"gpt-4o\",\n",
    "  \"messages\": [\n",
    "    {\n",
    "      \"role\": \"user\",\n",
    "      \"content\": [\n",
    "        {\n",
    "          \"type\": \"text\",\n",
    "          \"text\": query\n",
    "        },\n",
    "        {\n",
    "          \"type\": \"image_url\",\n",
    "          \"image_url\": {\n",
    "            \"url\": f\"data:image/jpeg;base64,{base64_image}\"\n",
    "          }\n",
    "        }\n",
    "      ]\n",
    "    }\n",
    "  ],\n",
    "  \"max_tokens\": 300\n",
    "}\n",
    "\n",
    "response = requests.post(\"https://api.openai.com/v1/chat/completions\", headers=headers, json=payload)\n",
    "\n",
    "# 소요된 시간을 계산합니다.\n",
    "end_time = time.time()\n",
    "elapsed_time = \"{:.2f}\".format(end_time - start_time)\n",
    "print(f'time:{elapsed_time}')\n",
    "\n",
    "print(response.json())"
   ]
  },
  {
   "cell_type": "code",
   "execution_count": null,
   "id": "f71833da-5e57-4b9a-9a8c-c0e642f163d8",
   "metadata": {},
   "outputs": [],
   "source": [
    "res = response.json()\n",
    "content = res['choices'][0]['message']['content']\n",
    "print(content)"
   ]
  },
  {
   "cell_type": "code",
   "execution_count": 11,
   "id": "5bfe55eb-537e-4913-aaa2-014f9f96af83",
   "metadata": {},
   "outputs": [
    {
     "name": "stdout",
     "output_type": "stream",
     "text": [
      "요청이 성공적으로 전송되었습니다.\n",
      "응답 내용: {'credits_left': 2450, 'period': 'month', 'monthly_limit': 2500, 'monthly_usage': 50}\n"
     ]
    }
   ],
   "source": [
    "# 현재 사용량 얻어오기 \n",
    "import requests\n",
    "\n",
    "# URL 설정\n",
    "url = \"http://192.168.0.61:3000/api/get_limit\"\n",
    "\n",
    "# GET 요청 보내기\n",
    "response = requests.get(url)\n",
    "\n",
    "# 응답 확인\n",
    "if response.status_code == 200:\n",
    "    print(\"요청이 성공적으로 전송되었습니다.\")\n",
    "    print(\"응답 내용:\", response.json())\n",
    "else:\n",
    "    print(\"요청이 실패했습니다. 상태 코드:\", response.status_code)\n",
    "    print(\"응답 내용:\", response.text)"
   ]
  },
  {
   "cell_type": "code",
   "execution_count": null,
   "id": "0db392e7-9632-40f4-af89-92d41e6c5e01",
   "metadata": {},
   "outputs": [],
   "source": [
    "# sudo로 content 내용 연동해서 노래 생성\n",
    "import time\n",
    "import requests\n",
    "import json\n",
    "\n",
    "start_time = time.time()\n",
    "\n",
    "prompt = content\n",
    "print(f'*prompt: {prompt}')\n",
    "# URL 설정\n",
    "url = \"http://192.168.0.55:3000/api/generate\"\n",
    "\n",
    "# 요청 데이터 설정\n",
    "data={\n",
    "  \"prompt\": prompt,\n",
    "  \"make_instrumental\": False,\n",
    "  \"wait_audio\": False\n",
    "}\n",
    "\n",
    "# 헤더 설정 (JSON 데이터를 보내므로 Content-Type을 application/json으로 설정)\n",
    "headers = {\n",
    "    \"Content-Type\": \"application/json\"\n",
    "}\n",
    "\n",
    "# POST 요청 보내기\n",
    "response = requests.post(url, data=json.dumps(data), headers=headers)\n",
    "\n",
    "# 소요된 시간을 계산합니다.\n",
    "end_time = time.time()\n",
    "elapsed_time = \"{:.2f}\".format(end_time - start_time)\n",
    "print(f'time:{elapsed_time}')\n",
    "\n",
    "# 응답 확인\n",
    "if response.status_code == 200:\n",
    "    print(\"요청이 성공적으로 전송되었습니다.\")\n",
    "    print(\"응답 내용:\", response.json())\n",
    "else:\n",
    "    print(\"요청이 실패했습니다. 상태 코드:\", response.status_code)\n",
    "    print(\"응답 내용:\", response.text)"
   ]
  },
  {
   "cell_type": "code",
   "execution_count": null,
   "id": "300860ac-4758-4263-b533-5a665f724c01",
   "metadata": {},
   "outputs": [],
   "source": [
    "# response에서 id만 뽑아냄 => id는 2개 만들어짐.\n",
    "suno_res = response.json()\n",
    "\n",
    "ids:list = []\n",
    "for suno in suno_res:\n",
    "    id = suno['id']\n",
    "    if id:\n",
    "        ids.append(id)\n",
    "\n",
    "print(ids)"
   ]
  },
  {
   "cell_type": "code",
   "execution_count": null,
   "id": "4cb3be1d-1b3b-4dbc-9d2a-967f543f3d3e",
   "metadata": {},
   "outputs": [],
   "source": [
    "# 실제 id를 전송해서 mp4, mp3 파일 경로 얻어옴\n",
    "import requests\n",
    "\n",
    "# 요청할 URL\n",
    "url = \"http://192.168.0.55:3000/api/get\"\n",
    "\n",
    "video_urls:list = []\n",
    "audio_urls:list = []\n",
    "\n",
    "for id in ids:\n",
    "    # 쿼리 파라미터\n",
    "    params = {\n",
    "        \"ids\": id\n",
    "    }\n",
    "    \n",
    "    # GET 요청 보내기\n",
    "    mp_response = requests.get(url, params=params)\n",
    "    \n",
    "    # 응답 코드 확인\n",
    "    print(f\"Status Code: {mp_response.status_code}\")\n",
    "    \n",
    "    # 응답 내용 출력\n",
    "    print(\"Response Content:\")\n",
    "    data = mp_response.json()\n",
    "    print(data)\n",
    "    print(f'*'*50)   \n",
    "    video_urls.append(data[0]['video_url'])\n",
    "    audio_urls.append(data[0]['audio_url'])\n",
    "\n",
    "print(\"*video_urls:\")\n",
    "print(video_urls)\n",
    "print(\"*audio_urls:\")\n",
    "print(audio_urls)\n"
   ]
  },
  {
   "cell_type": "code",
   "execution_count": null,
   "id": "073382e3-31db-4b84-a0dc-f0641233c102",
   "metadata": {},
   "outputs": [],
   "source": [
    "#%pip install fastapi uvicorn jinja2"
   ]
  },
  {
   "cell_type": "code",
   "execution_count": 10,
   "id": "2ec49707-c5f1-4434-8542-fbcd890f5f37",
   "metadata": {},
   "outputs": [
    {
     "name": "stdout",
     "output_type": "stream",
     "text": [
      "Status Code: 200\n",
      "response: <!DOCTYPE html>\n",
      "<html lang=\"en\">\n",
      "<head>\n",
      "    <meta charset=\"UTF-8\">\n",
      "    <title>FastAPI Music Player</title>\n",
      "    <script src=\"http://192.168.0.55:8000/static/player.js\"></script>\n",
      "</head>\n",
      "<body>\n",
      "    <h1>Music Player</h1>\n",
      "    <audio id=\"audioPlayer\" controls autoplay></audio>\n",
      "    <script>\n",
      "        const tracks = [\"https://cdn1.suno.ai/d4d9e9c1-c842-4714-afe9-d5b15ea8bdc4.mp3\"];\n",
      "        setupPlayer(tracks);\n",
      "    </script>\n",
      "</body>\n",
      "</html>\n"
     ]
    }
   ],
   "source": [
    "import requests\n",
    "import json\n",
    "import webbrowser\n",
    "import tempfile\n",
    "import os\n",
    "import atexit  \n",
    "import uuid\n",
    "\n",
    "# 요청을 보낼 URL\n",
    "url = \"http://192.168.0.61:8000/set_playlist\"\n",
    "\n",
    "# POST 요청의 body에 들어갈 데이터\n",
    "data = {\n",
    "    \"urls\": [\n",
    "        \"https://cdn1.suno.ai/d4d9e9c1-c842-4714-afe9-d5b15ea8bdc4.mp3\"\n",
    "    ]\n",
    "}\n",
    "\n",
    "# 데이터를 JSON 문자열로 변환\n",
    "json_data = json.dumps(data)\n",
    "\n",
    "# headers 설정 (Content-Type을 application/json으로 설정)\n",
    "headers = {\n",
    "    \"Content-Type\": \"application/json\"\n",
    "}\n",
    "\n",
    "# POST 요청 보내기\n",
    "response = requests.post(url, data=json_data, headers=headers)\n",
    "\n",
    "# 응답 코드와 내용 출력\n",
    "print(f\"Status Code: {response.status_code}\")\n",
    "print(f\"response: {response.text}\")\n"
   ]
  },
  {
   "cell_type": "code",
   "execution_count": 10,
   "id": "681c3345-2b1c-49c4-ab8d-12daf9fb0c27",
   "metadata": {},
   "outputs": [
    {
     "name": "stdout",
     "output_type": "stream",
     "text": [
      "Status Code: 200\n",
      "response: <!DOCTYPE html>\n",
      "<html lang=\"en\">\n",
      "<head>\n",
      "    <meta charset=\"UTF-8\">\n",
      "    <title>FastAPI Music Player</title>\n",
      "    <script src=\"http://192.168.0.55:8000/static/player.js\"></script>\n",
      "</head>\n",
      "<body>\n",
      "    <h1>Music Player</h1>\n",
      "    <audio id=\"audioPlayer\" controls autoplay></audio>\n",
      "    <script>\n",
      "        const tracks = [\"https://cdn1.suno.ai/d4d9e9c1-c842-4714-afe9-d5b15ea8bdc4.mp3\"];\n",
      "        setupPlayer(tracks);\n",
      "    </script>\n",
      "</body>\n",
      "</html>\n"
     ]
    }
   ],
   "source": [
    "import requests\n",
    "import json\n",
    "import webbrowser\n",
    "import tempfile\n",
    "import os\n",
    "import atexit  \n",
    "import uuid\n",
    "\n",
    "# 요청을 보낼 URL\n",
    "url = \"http://192.168.0.55:8000/set_playlist\"\n",
    "\n",
    "# POST 요청의 body에 들어갈 데이터\n",
    "data = {\n",
    "    \"urls\": [\n",
    "        \"https://cdn1.suno.ai/d4d9e9c1-c842-4714-afe9-d5b15ea8bdc4.mp3\"\n",
    "    ]\n",
    "}\n",
    "\n",
    "# 데이터를 JSON 문자열로 변환\n",
    "json_data = json.dumps(data)\n",
    "\n",
    "# headers 설정 (Content-Type을 application/json으로 설정)\n",
    "headers = {\n",
    "    \"Content-Type\": \"application/json\"\n",
    "}\n",
    "\n",
    "# POST 요청 보내기\n",
    "response = requests.post(url, data=json_data, headers=headers)\n",
    "\n",
    "# 응답 코드와 내용 출력\n",
    "print(f\"Status Code: {response.status_code}\")\n",
    "print(f\"response: {response.text}\")\n"
   ]
  },
  {
   "cell_type": "code",
   "execution_count": 3,
   "id": "4c79e62d-e78e-4782-afb1-cb6b74f556ca",
   "metadata": {},
   "outputs": [
    {
     "name": "stdout",
     "output_type": "stream",
     "text": [
      "d:\\docker\\jupyter\\jupyterdir\\tmp\\10916f468be743bfbf3bf7bd7a812c2d.html\n"
     ]
    },
    {
     "data": {
      "text/plain": [
       "False"
      ]
     },
     "execution_count": 3,
     "metadata": {},
     "output_type": "execute_result"
    }
   ],
   "source": [
    "import os\n",
    "import webbrowser\n",
    "temp_path = f\"10916f468be743bfbf3bf7bd7a812c2d.html\"\n",
    "abs_path = f'd:\\\\docker\\\\jupyter\\\\jupyterdir\\\\tmp\\\\{temp_path}'\n",
    "\n",
    "\n",
    "print(abs_path)\n",
    "webbrowser.open(f\"file://{abs_path}\")"
   ]
  }
 ],
 "metadata": {
  "kernelspec": {
   "display_name": "Python 3 (ipykernel)",
   "language": "python",
   "name": "python3"
  },
  "language_info": {
   "codemirror_mode": {
    "name": "ipython",
    "version": 3
   },
   "file_extension": ".py",
   "mimetype": "text/x-python",
   "name": "python",
   "nbconvert_exporter": "python",
   "pygments_lexer": "ipython3",
   "version": "3.9.7"
  }
 },
 "nbformat": 4,
 "nbformat_minor": 5
}
