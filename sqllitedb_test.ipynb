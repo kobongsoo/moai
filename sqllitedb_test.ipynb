{
 "cells": [
  {
   "cell_type": "code",
   "execution_count": 1,
   "id": "c3d8a268-f351-4480-82ac-5c3dc10f2463",
   "metadata": {},
   "outputs": [],
   "source": [
    "from utils import SqliteDB\n",
    "userdb = SqliteDB('./data/kakao.db')"
   ]
  },
  {
   "cell_type": "code",
   "execution_count": null,
   "id": "0d901712-8e33-4379-86ed-27efe474b8ca",
   "metadata": {},
   "outputs": [],
   "source": [
    "userdb.execute('DROP TABLE IF EXISTS quiz')  # quize 테이블 삭제\n",
    "\n",
    "# 돌발퀴즈 quize 테이블 생성\n",
    "# id => key 값, type=100: last 질문과응답, type=0~5 : 퀴즈 질문과 응답, userid:사용자 id, query:질문, response: 답변, answer: 퀴즈 정답, info: 퀴즈 설명\n",
    "userdb.execute('CREATE TABLE quiz(id TEXT, type INT, userid TEXT, query TEXT, response TEXT, answer TEXT, info TEXT)')  "
   ]
  },
  {
   "cell_type": "code",
   "execution_count": null,
   "id": "4d37cca4-6963-487c-8479-87179b9170bd",
   "metadata": {},
   "outputs": [],
   "source": [
    "uniqid=\"2\"\n",
    "user_id=\"6ab7a41a7acff716d35b078602ee9203f6aee4387c99a1a2f1324d671933a38911\"\n",
    "type=1\n",
    "query=\"1테스트입니다\"\n",
    "response = \"1응답 테스트입니다.\"\n",
    "answer=\"1답변입니다.\"\n",
    "info=\"1정보입니다.\"\n",
    "\n",
    "res = userdb.insert_quiz(userid=user_id, type=type, query=query, response=response, answer=answer, info=info)\n",
    "print(res)"
   ]
  },
  {
   "cell_type": "code",
   "execution_count": null,
   "id": "4afa8c30-d834-4a53-a83a-93fe630906ff",
   "metadata": {},
   "outputs": [],
   "source": [
    "user_id=\"6ab7a41a7acff716d35b078602ee9203f6aee4387c99a1a2f1324d671933a38911\"\n",
    "type=1\n",
    "res = userdb.select_quiz(userid=user_id, type=type)\n",
    "print(res)"
   ]
  },
  {
   "cell_type": "code",
   "execution_count": null,
   "id": "38e391aa-7026-4929-88f5-0d16524d95bd",
   "metadata": {},
   "outputs": [],
   "source": [
    "user_id=\"6ab7a41a7acff716d35b078602ee9203f6aee4387c99a1a2f1324d671933a38911\"\n",
    "type=1\n",
    "res = userdb.delete_quiz_type(userid=user_id, type=type)\n",
    "print(res)"
   ]
  },
  {
   "cell_type": "code",
   "execution_count": null,
   "id": "f12b6631-1e53-423a-861b-cde71cc85f05",
   "metadata": {},
   "outputs": [],
   "source": [
    "user_id=\"6ab7a41a7acff716d35b078602ee9203f6aee4387c99a1a2f1324d671933a38911\"\n",
    "res = userdb.delete_quiz_all(userid=user_id)\n",
    "print(res)"
   ]
  },
  {
   "cell_type": "code",
   "execution_count": null,
   "id": "0f51be58-2e87-46f4-a579-e2d4e44ee404",
   "metadata": {},
   "outputs": [],
   "source": [
    "userdb.execute('DROP TABLE IF EXISTS assistants')  # assistants 테이블 삭제\n",
    "userdb.execute('CREATE TABLE assistants(id TEXT, uid TEXT, prequery TEXT, preanswer TEXT)')  # GPT 이전 기억 데이터 assistants 테이블 생성"
   ]
  },
  {
   "cell_type": "code",
   "execution_count": null,
   "id": "8a66a4a2-1fa2-4957-83bc-9cd385dd2e9c",
   "metadata": {},
   "outputs": [],
   "source": [
    "# assistants 테이블 에 추가\n",
    "prequery:str = \"query1\"\n",
    "preanswer:str = \"answer1\"\n",
    "userdb.insert_assistants(user_id='6ab7a41a7acff716d35b078602ee9203f6aee4387c99a1a2f1324d671933a38911', prequery=prequery, preanswer=preanswer)"
   ]
  },
  {
   "cell_type": "code",
   "execution_count": null,
   "id": "0832676e-ce3b-411f-b664-6bc795846a0c",
   "metadata": {},
   "outputs": [],
   "source": [
    "# assistants 테이블 에 추가\n",
    "prequery:str = \"query2\"\n",
    "preanswer:str = \"answer2\"\n",
    "userdb.insert_assistants(user_id='6ab7a41a7acff716d35b078602ee9203f6aee4387c99a1a2f1324d671933a38911', prequery=prequery, preanswer=preanswer)"
   ]
  },
  {
   "cell_type": "code",
   "execution_count": null,
   "id": "2acd5c25-2122-40f6-8bed-20a96c1ec603",
   "metadata": {},
   "outputs": [],
   "source": [
    "# assistants 테이블 에 추가\n",
    "prequery:str = \"query3\"\n",
    "preanswer:str = \"answer3\"\n",
    "userdb.insert_assistants(user_id='6ab7a41a7acff716d35b078602ee9203f6aee4387c99a1a2f1324d671933a38911', prequery=prequery, preanswer=preanswer)"
   ]
  },
  {
   "cell_type": "code",
   "execution_count": null,
   "id": "0a9e7116-9f97-4512-a0e0-93c131403288",
   "metadata": {},
   "outputs": [],
   "source": [
    "# assistants 리스트 뽑아옴.\n",
    "res = userdb.select_assistants(user_id='6ab6b52803954cc23c02f1d2d973201e92aee4387c99a1a2f1324d671933a38911')\n",
    "\n",
    "print(res)\n",
    "print(type(res))\n",
    "\n",
    "print(res)\n",
    "print(type(res))\n",
    "\n",
    "res2:list = []\n",
    "if res != 0:\n",
    "    for res1 in res:\n",
    "        pretest:str = ''\n",
    "        if res1['prequery']:\n",
    "            pretext = f\"{res1['prequery']}\\n{res1['preanswer']}\"\n",
    "        else:\n",
    "            pretext = f\"{res1['preanswer']}\"\n",
    "            \n",
    "        res2.append(pretext)\n",
    "     \n",
    "    print(res2)"
   ]
  },
  {
   "cell_type": "code",
   "execution_count": null,
   "id": "164413cd-f1cc-48cf-95bd-fdfe77bc3a7e",
   "metadata": {},
   "outputs": [],
   "source": [
    "userdb.delete_assistants(user_id='6ab7a41a7acff716d35b078602ee9203f6aee4387c99a1a2f1324d671933a38911')"
   ]
  },
  {
   "cell_type": "code",
   "execution_count": 2,
   "id": "89bff029-8666-47ec-a976-ccb3518188b2",
   "metadata": {},
   "outputs": [],
   "source": [
    "userdb.execute('DROP TABLE IF EXISTS setting')  # setting 테이블 삭제\n",
    "# id, extraid:개인문서검색시 사용할 별칭id, site: 검색site(네이버, 구글), prequery: 이전질문검색할지/안할지, LLM: GPT, gemma(구글젬마)\n",
    "userdb.execute('CREATE TABLE setting(id TEXT, extraid TEXT, site TEXT, prequery INT, llmmodel INT)')  # setting 테이블 생성"
   ]
  },
  {
   "cell_type": "code",
   "execution_count": null,
   "id": "ec638162-3625-4a5d-bb41-c638230013ee",
   "metadata": {},
   "outputs": [],
   "source": [
    "# setting 에 추가\n",
    "userdb.insert_setting(user_id='test01', extra_id='test', site='google', prequery=1, llmmodel=1)"
   ]
  },
  {
   "cell_type": "code",
   "execution_count": null,
   "id": "0391e15f-7c85-410c-b1bc-1c0ce757bd58",
   "metadata": {},
   "outputs": [],
   "source": [
    "res = userdb.select_setting(user_id='aa6ab6b52803954cc23c02f1d2d973201e92aee4387c99a1a2f1324d671933a38911')\n",
    "\n",
    "print(res)\n",
    "print(type(res))"
   ]
  },
  {
   "cell_type": "code",
   "execution_count": null,
   "id": "4578bb20-bdda-4418-8258-370eb09e70d7",
   "metadata": {},
   "outputs": [],
   "source": [
    "userdb.delete_setting(user_id='6ab7a41a7acff716d35b078602ee9203f6aee4387c99a1a2f1324d671933a38911')"
   ]
  },
  {
   "cell_type": "code",
   "execution_count": null,
   "id": "c23541ff-29c3-4266-a422-f6642e88f22a",
   "metadata": {},
   "outputs": [],
   "source": [
    "userdb.execute('DROP TABLE IF EXISTS user_mode')  # user_mode 테이블 삭제\n",
    "userdb.execute('CREATE TABLE user_mode(id TEXT, mode INT)')  # user_mode 테이블 생성"
   ]
  },
  {
   "cell_type": "code",
   "execution_count": null,
   "id": "408e2a2e-b1ec-4f3d-ae1d-5c1ee0d48ef6",
   "metadata": {},
   "outputs": [],
   "source": [
    "res = userdb.select_user_mode(user_id='6ab7a41a7acff716d35b078602ee9203f6aee4387c99a1a2f1324d671933a38911')\n",
    "\n",
    "print(res)\n",
    "print(type(res))"
   ]
  },
  {
   "cell_type": "code",
   "execution_count": null,
   "id": "0417b0f7-7642-481d-a77b-d4c72d987666",
   "metadata": {},
   "outputs": [],
   "source": [
    "userdb.delete_user_mode(user_id='6ab7a41a7acff716d35b078602ee9203f6aee4387c99a1a2f1324d671933a38911')"
   ]
  },
  {
   "cell_type": "code",
   "execution_count": null,
   "id": "f5e32bd0-5095-40db-877e-57db09fa33be",
   "metadata": {},
   "outputs": [],
   "source": [
    "#[bong][2024-06-03] 개인문서검색을 위한 ExtraId 등록\n",
    "userdb.execute('DROP TABLE IF EXISTS usermgr')  # usermgr 테이블 삭제\n",
    "userdb.execute('CREATE TABLE usermgr(id TEXT, extraid TEXT)')  # usermgr 테이블 생성"
   ]
  },
  {
   "cell_type": "code",
   "execution_count": null,
   "id": "646c1faa-d22c-478b-9a38-ce3677b1a7e9",
   "metadata": {},
   "outputs": [],
   "source": [
    "status, res = userdb.select_usermgr_all()\n",
    "print(f'*error:{status}')\n",
    "print(res)"
   ]
  },
  {
   "cell_type": "code",
   "execution_count": null,
   "id": "46b5c311-8a25-48b2-bcbc-7648157b03c6",
   "metadata": {},
   "outputs": [],
   "source": [
    "user_id='6ab7a41a7acff716d35b078602ee9203f6aee4387c99a1a2f1324d671933a38911'\n",
    "extraid = 'bong9431'\n",
    "status = userdb.insert_usermgr_extraid(user_id=user_id, extraid=extraid)\n",
    "print(f'*error:{status}')"
   ]
  },
  {
   "cell_type": "code",
   "execution_count": null,
   "id": "d9b03506-953d-4aef-bc81-f61f6cabe153",
   "metadata": {},
   "outputs": [],
   "source": [
    "user_id='6ab7a41a7acff716d35b078602ee9203f6aee4387c99a1a2f1324d671933a38911'\n",
    "status, res = userdb.select_usermgr_extraid(user_id=user_id)\n",
    "print(f'*error:{status}')\n",
    "print(res)"
   ]
  },
  {
   "cell_type": "code",
   "execution_count": null,
   "id": "d15b1a95-5c0a-4fab-a7b9-d35b38dd54a0",
   "metadata": {},
   "outputs": [],
   "source": [
    "user_id='6ab7a41a7acff716d35b078602ee9203f6aee4387c99a1a2f1324d671933a38911'\n",
    "status = userdb.delete_usermgr_extraid(user_id=user_id)\n",
    "print(f'*error:{status}')"
   ]
  },
  {
   "cell_type": "code",
   "execution_count": null,
   "id": "249a0180-d0ce-465b-ba88-1641026c1a11",
   "metadata": {},
   "outputs": [],
   "source": [
    "# extraid가 있는지 체크\n",
    "extraid = 'bong94311'\n",
    "status,res = userdb.check_usermgr_extraid(extraid=extraid)\n",
    "print(f'*error:{status}')\n",
    "print(res)"
   ]
  },
  {
   "cell_type": "code",
   "execution_count": null,
   "id": "ee2b5126-4f42-4fd3-9213-fb9e3f84db16",
   "metadata": {},
   "outputs": [],
   "source": []
  }
 ],
 "metadata": {
  "kernelspec": {
   "display_name": "Python 3 (ipykernel)",
   "language": "python",
   "name": "python3"
  },
  "language_info": {
   "codemirror_mode": {
    "name": "ipython",
    "version": 3
   },
   "file_extension": ".py",
   "mimetype": "text/x-python",
   "name": "python",
   "nbconvert_exporter": "python",
   "pygments_lexer": "ipython3",
   "version": "3.9.7"
  }
 },
 "nbformat": 4,
 "nbformat_minor": 5
}
