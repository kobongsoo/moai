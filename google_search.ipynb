{
 "cells": [
  {
   "cell_type": "code",
   "execution_count": 1,
   "id": "7ff31d6f-d129-4330-85e7-ac5f4db5f7da",
   "metadata": {},
   "outputs": [
    {
     "name": "stdout",
     "output_type": "stream",
     "text": [
      "https://namu.wiki/w/%EC%A3%BC%EB%AF%BC%EB%93%B1%EB%A1%9D%EB%B2%88%ED%98%B8\n",
      "title:주민등록번호 - 나무위키\n",
      "descript:Nov 22, 2023 ... [29] 00: 종로(000~003)/중구, 01: 용산/성동/광진 02: 동대문/중랑/성북, 03: 강북(029)/도봉(030)/노원(031), 04: 은평(039)/서대문/마포, 05 : 양천/ ...\n",
      "longdes:N/A\n",
      "\n",
      "https://www.rrncc.go.kr/\n",
      "title:주민등록번호변경위원회\n",
      "descript:행정안전부 주민등록번호변경위원회 ... 주민등록번호를 바꿔서, 안전한 삶을 지키세요! 주민등록번호 유출로 인해 피해를 입으셨다면, 지금 주민등록번호 변경신청하세요!\n",
      "longdes:N/A\n",
      "\n",
      "https://ko.wikipedia.org/wiki/%EC%A3%BC%EB%AF%BC%EB%93%B1%EB%A1%9D%EB%B2%88%ED%98%B8\n",
      "title:주민등록번호 - 위키백과, 우리 모두의 백과사전\n",
      "descript:구성 편집 · 'ㅇㅈㅊㅋ'는 출생등록지, 즉 등록기준지의 고유 번호이다. · 2020년 10월부터 45년만에 주민등록번호 부여체계가 바뀌면서 지역번호를 폐지하고 뒷자리 성별 ...\n",
      "longdes:N/A\n",
      "\n",
      "https://www.mois.go.kr/frt/sub/a06/b06/IDCardChange/screen.do\n",
      "title:주민등록번호 변경제도\n",
      "descript:None\n",
      "longdes:N/A\n",
      "\n",
      "https://glaw.scourt.go.kr/wsjo/lawod/sjo192.do?lawodNm=%EC%A0%95%EB%B3%B4%ED%86%B5%EC%8B%A0%EB%A7%9D%20%EC%9D%B4%EC%9A%A9%EC%B4%89%EC%A7%84%20%EB%B0%8F%20%EC%A0%95%EB%B3%B4%EB%B3%B4%ED%98%B8%20%EB%93%B1%EC%97%90%20%EA%B4%80%ED%95%9C%20%EB%B2%95%EB%A5%A0&jomunNo=23&jomunGajiNo=2\n",
      "title:제23조의2 (주민등록번호의 사용 제한) > 법령 > 법령조문조회 | 종합 ...\n",
      "descript:종합법률정보에서는 시행중인 법령중 가장 최근에 공포된 법령을 최신공포법령으로 제공하고 있습니다. 동일한 공포일자의 법령이라도 개별 조문의 시행시기는 부칙에 따라 ...\n",
      "longdes:N/A\n",
      "\n",
      "https://spib.wooribank.com/pib/Dream?withyou=CQMEM0025\n",
      "title:주민등록번호등록 - 우리은행\n",
      "descript:주민등록번호가 잘못 등록되어 있습니다. 다시 입력해주시기바랍니다. 주민등록번호 입력. 주민등록번호, - ...\n",
      "longdes:N/A\n",
      "\n",
      "https://support.google.com/adsense/thread/179953079/%EB%B3%B8%EC%9D%B8%EC%9D%B8%EC%A6%9D%EC%9D%84-%ED%95%A0%EB%A0%A4%EB%8A%94%EB%8D%B0-%EC%A3%BC%EB%AF%BC%EB%93%B1%EB%A1%9D%EB%B2%88%ED%98%B8-%EC%95%9E%EC%9E%90%EB%A6%AC%EB%A5%BC-7%EC%9E%90%EB%A6%AC-%ED%95%9C%EC%A0%95%EC%9D%B4%EB%9D%BC%EA%B3%A0-%EB%82%98%EC%99%80%EC%9A%94?hl=ko\n",
      "title:본인인증을 할려는데 주민등록번호 앞자리를 7자리 한정이라고 ...\n",
      "descript:Sep 19, 2022 ... 안녕하세요. 주민등록번호가 220101-12346789 이라면 220101-1 까지 (뒷번호 앞 한자리 1이나 2포함해서) 입력되는지 확인 바랍니다.\n",
      "longdes:N/A\n",
      "\n",
      "https://blog.naver.com/mirae_saram/222120031224\n",
      "title:[사람나래] 주민등록번호 뒷자리, '임의번호'로 개편한 이유는? : 네이버 ...\n",
      "descript:Oct 19, 2020 ... 생년월일 다음에 나오던 7자리 번호가 사실상 6자리 번호로 바뀌는 겁니다. 여기서 1은 1900년대에 태어난 남자, 2는 1900년대에 태어난 여자, 3은 2000년 ...\n",
      "longdes:　 여러분은 호패(號牌/戶牌)를 아시나요? 조선 시대에 16세 이상의 남자가 차고 다닌 패입니다. 원래 중국...\n",
      "\n",
      "https://glaw.scourt.go.kr/wsjo/gchick/sjo330.do?contId=1859765&q=%EC%9E%AC%EC%99%B8%EA%B5%AD%EB%AF%BC&nq=&w=yegu&section=yegu_tot&subw=&subsection=&subId=2&csq=&groups=2,7&category=&outmax=1&msort=&onlycount=&sp=&d1=&d2=&d3=&d4=&d5=&pg=198&p1=&p2=\n",
      "title:등기명의인의 주민등록번호가 등기부에 기재되어 있지 않은 경우 ...\n",
      "descript:등기명의인의 주민등록번호가 등기부에 기재되어 있지 않은 경우, 등기명의인의 주민등록번호를 추가로 등기할 수 있는지 여부(적극). 제정 2000. 12. 26. [등기선례 제 ...\n",
      "longdes:N/A\n",
      "\n",
      "https://help.scourt.go.kr/nm/minwon/faq/FaqViewAction.work?mode=A&seqnum=3996\n",
      "title:자주묻는질문 - 민원안내 - 전자민원센터\n",
      "descript:... 주민등록번호 앞자리 이므로 가족관계등록부상 주민등록번호(생년월일)을 주민등록표상의 주민등록번호로 정정하는 절차에 대해 알고 싶습니다. 답변내용 ｜. 1 ...\n",
      "longdes:N/A\n",
      "\n",
      "time:5.78\n",
      "\n"
     ]
    }
   ],
   "source": [
    "#https://www.delftstack.com/ko/howto/python/python-google-search-api/\n",
    "import time\n",
    "from utils import GoogleSearchAPI\n",
    "\n",
    "start_time = time.time()\n",
    "\n",
    "API_KEY = \"\"\n",
    "SEARCH_ENGINE_ID = \"\"\n",
    "\n",
    "googlesearch = GoogleSearchAPI(api_key=API_KEY, search_engine_id=SEARCH_ENGINE_ID)\n",
    "contexts:list = []\n",
    "query = \"주민등록번호\"\n",
    "contexts, best_contexts, error=googlesearch.search_google(query=query, page=1)\n",
    "    \n",
    "if error == 0:\n",
    "    for context in contexts:\n",
    "        print(context['link'])\n",
    "        print(f'title:{context[\"title\"]}')\n",
    "        print(f'descript:{context[\"descript\"]}')\n",
    "        print(f'longdes:{context[\"longdescript\"]}')\n",
    "        print()\n",
    "else:\n",
    "    print(contexts)\n",
    "    \n",
    "# 소요된 시간을 계산합니다.\n",
    "end_time = time.time()\n",
    "elapsed_time = \"{:.2f}\".format(end_time - start_time)\n",
    "print(f'time:{elapsed_time}\\n')"
   ]
  },
  {
   "cell_type": "code",
   "execution_count": null,
   "id": "0505c71a-164f-478b-84a5-4341809079e6",
   "metadata": {},
   "outputs": [],
   "source": [
    "con = {}\n",
    "con['descript'] = \"test\"\n",
    "con['link'] = \"fff\"\n",
    "\n",
    "\n",
    "if con['descript'] and con['link']:\n",
    "    print('들어옴')"
   ]
  },
  {
   "cell_type": "code",
   "execution_count": null,
   "id": "99a1b244-b7a4-4fd0-b55c-1a3eb24ba625",
   "metadata": {},
   "outputs": [],
   "source": []
  }
 ],
 "metadata": {
  "kernelspec": {
   "display_name": "Python 3 (ipykernel)",
   "language": "python",
   "name": "python3"
  },
  "language_info": {
   "codemirror_mode": {
    "name": "ipython",
    "version": 3
   },
   "file_extension": ".py",
   "mimetype": "text/x-python",
   "name": "python",
   "nbconvert_exporter": "python",
   "pygments_lexer": "ipython3",
   "version": "3.9.7"
  }
 },
 "nbformat": 4,
 "nbformat_minor": 5
}
