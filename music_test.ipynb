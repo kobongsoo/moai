{
 "cells": [
  {
   "cell_type": "code",
   "execution_count": 2,
   "id": "2665e6e7-bde9-40ba-8565-101ddb08fc13",
   "metadata": {},
   "outputs": [],
   "source": [
    "import os\n",
    "import time\n",
    "from music import SUNO\n",
    "suno = SUNO()"
   ]
  },
  {
   "cell_type": "code",
   "execution_count": 3,
   "id": "f041ab14-a56d-4640-9211-24e8c6b072e4",
   "metadata": {},
   "outputs": [
    {
     "name": "stdout",
     "output_type": "stream",
     "text": [
      "*사용량 얻기 성공.\n",
      "*응답: {'credits_left': 2270, 'period': 'month', 'monthly_limit': 2500, 'monthly_usage': 230}\n",
      "*status:0\n",
      "*res:{'credits_left': 2270, 'period': 'month', 'monthly_limit': 2500, 'monthly_usage': 230}\n"
     ]
    }
   ],
   "source": [
    "# 사용량 얻기  \n",
    "host = \"http://192.168.0.61:3000\"\n",
    "\n",
    "status, res = suno.get_limit(host=host)\n",
    "\n",
    "print(f'*status:{status}')\n",
    "print(f'*res:{res}')"
   ]
  },
  {
   "cell_type": "code",
   "execution_count": null,
   "id": "ee65bd0b-05d4-4651-81a1-9cf27f7ef119",
   "metadata": {},
   "outputs": [],
   "source": [
    "# 음악 생성\n",
    "host = \"http://192.168.0.61:3000\"\n",
    "prompt = \"여름휴가로 가족들과 함께 유럽여행가자.\"\n",
    "\n",
    "status, res = suno.create(prompt=prompt, host=host)\n",
    "\n",
    "print(f'*status:{status}')\n",
    "print(f'*res:{res}')"
   ]
  },
  {
   "cell_type": "code",
   "execution_count": 4,
   "id": "c6fb0bf8-ca23-4128-8265-88b8b84e839a",
   "metadata": {},
   "outputs": [
    {
     "name": "stdout",
     "output_type": "stream",
     "text": [
      "*url: http://192.168.0.61:3000/api/get\n",
      "*count: 0\n",
      "*Status Code: 200\n",
      "*params: {'ids': 'efd952d7-6d00-4ce6-b5a8-36d2e59996fb'}\n",
      "Response Content:\n",
      "[{'id': 'efd952d7-6d00-4ce6-b5a8-36d2e59996fb', 'title': '숲속 여행', 'image_url': 'https://cdn1.suno.ai/image_efd952d7-6d00-4ce6-b5a8-36d2e59996fb.png', 'lyric': '[Verse]\\n여름날 숲속에서\\n우리 사랑해요\\n바람 불어오는 길\\n행복 가득해요\\n[Verse 2]\\n푸른 나무 사이로\\n햇살 비춰줄 때\\n웃음소리 가득한\\n우리 가족 함께해\\n[Chorus]\\n숲속으로 떠나요\\n다같이 손잡고\\n추억을 만들어요\\n여름날 속으로\\n[Bridge]\\n숲속 향기 맡으며\\n이 순간 느끼며\\n모든 걱정 날려요\\n여름날의 행복\\n[Verse 3]\\n파란 하늘 아래서\\n마음 편안해요\\n사랑하는 가족과\\n함께라서 좋아요\\n[Chorus]\\n숲속으로 떠나요\\n다같이 손잡고\\n추억을 만들어요\\n여름날 속으로', 'audio_url': 'https://cdn1.suno.ai/efd952d7-6d00-4ce6-b5a8-36d2e59996fb.mp3', 'video_url': 'https://cdn1.suno.ai/efd952d7-6d00-4ce6-b5a8-36d2e59996fb.mp4', 'created_at': '2024-06-11T01:32:55.562Z', 'model_name': 'chirp-v3.5', 'status': 'complete', 'gpt_description_prompt': '여름에 숲속으로 사랑하는 가족들과 여행을 떠나자.', 'prompt': '[Verse]\\n여름날 숲속에서\\n우리 사랑해요\\n바람 불어오는 길\\n행복 가득해요\\n\\n[Verse 2]\\n푸른 나무 사이로\\n햇살 비춰줄 때\\n웃음소리 가득한\\n우리 가족 함께해\\n\\n[Chorus]\\n숲속으로 떠나요\\n다같이 손잡고\\n추억을 만들어요\\n여름날 속으로\\n\\n[Bridge]\\n숲속 향기 맡으며\\n이 순간 느끼며\\n모든 걱정 날려요\\n여름날의 행복\\n\\n[Verse 3]\\n파란 하늘 아래서\\n마음 편안해요\\n사랑하는 가족과\\n함께라서 좋아요\\n\\n[Chorus]\\n숲속으로 떠나요\\n다같이 손잡고\\n추억을 만들어요\\n여름날 속으로', 'type': 'gen', 'tags': 'melodic acoustic pop'}]\n",
      "**************************************************\n",
      "*Status Code: 200\n",
      "*params: {'ids': 'b90f200b-6960-47a8-9b89-cb5d07d964e6'}\n",
      "Response Content:\n",
      "[{'id': 'b90f200b-6960-47a8-9b89-cb5d07d964e6', 'title': '숲속 여행', 'image_url': 'https://cdn1.suno.ai/image_b90f200b-6960-47a8-9b89-cb5d07d964e6.png', 'lyric': '[Verse]\\n여름날 숲속에서\\n우리 사랑해요\\n바람 불어오는 길\\n행복 가득해요\\n[Verse 2]\\n푸른 나무 사이로\\n햇살 비춰줄 때\\n웃음소리 가득한\\n우리 가족 함께해\\n[Chorus]\\n숲속으로 떠나요\\n다같이 손잡고\\n추억을 만들어요\\n여름날 속으로\\n[Bridge]\\n숲속 향기 맡으며\\n이 순간 느끼며\\n모든 걱정 날려요\\n여름날의 행복\\n[Verse 3]\\n파란 하늘 아래서\\n마음 편안해요\\n사랑하는 가족과\\n함께라서 좋아요\\n[Chorus]\\n숲속으로 떠나요\\n다같이 손잡고\\n추억을 만들어요\\n여름날 속으로', 'audio_url': 'https://cdn1.suno.ai/b90f200b-6960-47a8-9b89-cb5d07d964e6.mp3', 'video_url': 'https://cdn1.suno.ai/b90f200b-6960-47a8-9b89-cb5d07d964e6.mp4', 'created_at': '2024-06-11T01:32:55.562Z', 'model_name': 'chirp-v3.5', 'status': 'complete', 'gpt_description_prompt': '여름에 숲속으로 사랑하는 가족들과 여행을 떠나자.', 'prompt': '[Verse]\\n여름날 숲속에서\\n우리 사랑해요\\n바람 불어오는 길\\n행복 가득해요\\n\\n[Verse 2]\\n푸른 나무 사이로\\n햇살 비춰줄 때\\n웃음소리 가득한\\n우리 가족 함께해\\n\\n[Chorus]\\n숲속으로 떠나요\\n다같이 손잡고\\n추억을 만들어요\\n여름날 속으로\\n\\n[Bridge]\\n숲속 향기 맡으며\\n이 순간 느끼며\\n모든 걱정 날려요\\n여름날의 행복\\n\\n[Verse 3]\\n파란 하늘 아래서\\n마음 편안해요\\n사랑하는 가족과\\n함께라서 좋아요\\n\\n[Chorus]\\n숲속으로 떠나요\\n다같이 손잡고\\n추억을 만들어요\\n여름날 속으로', 'type': 'gen', 'tags': 'melodic acoustic pop'}]\n",
      "**************************************************\n",
      "Successfully retrieved the required data.\n",
      "*time:1.72\n",
      "*time:1.72\n",
      "*status:0\n",
      "*datalist:[{'id': 'efd952d7-6d00-4ce6-b5a8-36d2e59996fb', 'title': '숲속 여행', 'image_url': 'https://cdn1.suno.ai/image_efd952d7-6d00-4ce6-b5a8-36d2e59996fb.png', 'lyric': '[Verse]\\n여름날 숲속에서\\n우리 사랑해요\\n바람 불어오는 길\\n행복 가득해요\\n[Verse 2]\\n푸른 나무 사이로\\n햇살 비춰줄 때\\n웃음소리 가득한\\n우리 가족 함께해\\n[Chorus]\\n숲속으로 떠나요\\n다같이 손잡고\\n추억을 만들어요\\n여름날 속으로\\n[Bridge]\\n숲속 향기 맡으며\\n이 순간 느끼며\\n모든 걱정 날려요\\n여름날의 행복\\n[Verse 3]\\n파란 하늘 아래서\\n마음 편안해요\\n사랑하는 가족과\\n함께라서 좋아요\\n[Chorus]\\n숲속으로 떠나요\\n다같이 손잡고\\n추억을 만들어요\\n여름날 속으로', 'audio_url': 'https://cdn1.suno.ai/efd952d7-6d00-4ce6-b5a8-36d2e59996fb.mp3', 'video_url': 'https://cdn1.suno.ai/efd952d7-6d00-4ce6-b5a8-36d2e59996fb.mp4', 'created_at': '2024-06-11T01:32:55.562Z', 'model_name': 'chirp-v3.5', 'status': 'complete', 'gpt_description_prompt': '여름에 숲속으로 사랑하는 가족들과 여행을 떠나자.', 'prompt': '[Verse]\\n여름날 숲속에서\\n우리 사랑해요\\n바람 불어오는 길\\n행복 가득해요\\n\\n[Verse 2]\\n푸른 나무 사이로\\n햇살 비춰줄 때\\n웃음소리 가득한\\n우리 가족 함께해\\n\\n[Chorus]\\n숲속으로 떠나요\\n다같이 손잡고\\n추억을 만들어요\\n여름날 속으로\\n\\n[Bridge]\\n숲속 향기 맡으며\\n이 순간 느끼며\\n모든 걱정 날려요\\n여름날의 행복\\n\\n[Verse 3]\\n파란 하늘 아래서\\n마음 편안해요\\n사랑하는 가족과\\n함께라서 좋아요\\n\\n[Chorus]\\n숲속으로 떠나요\\n다같이 손잡고\\n추억을 만들어요\\n여름날 속으로', 'type': 'gen', 'tags': 'melodic acoustic pop'}, {'id': 'b90f200b-6960-47a8-9b89-cb5d07d964e6', 'title': '숲속 여행', 'image_url': 'https://cdn1.suno.ai/image_b90f200b-6960-47a8-9b89-cb5d07d964e6.png', 'lyric': '[Verse]\\n여름날 숲속에서\\n우리 사랑해요\\n바람 불어오는 길\\n행복 가득해요\\n[Verse 2]\\n푸른 나무 사이로\\n햇살 비춰줄 때\\n웃음소리 가득한\\n우리 가족 함께해\\n[Chorus]\\n숲속으로 떠나요\\n다같이 손잡고\\n추억을 만들어요\\n여름날 속으로\\n[Bridge]\\n숲속 향기 맡으며\\n이 순간 느끼며\\n모든 걱정 날려요\\n여름날의 행복\\n[Verse 3]\\n파란 하늘 아래서\\n마음 편안해요\\n사랑하는 가족과\\n함께라서 좋아요\\n[Chorus]\\n숲속으로 떠나요\\n다같이 손잡고\\n추억을 만들어요\\n여름날 속으로', 'audio_url': 'https://cdn1.suno.ai/b90f200b-6960-47a8-9b89-cb5d07d964e6.mp3', 'video_url': 'https://cdn1.suno.ai/b90f200b-6960-47a8-9b89-cb5d07d964e6.mp4', 'created_at': '2024-06-11T01:32:55.562Z', 'model_name': 'chirp-v3.5', 'status': 'complete', 'gpt_description_prompt': '여름에 숲속으로 사랑하는 가족들과 여행을 떠나자.', 'prompt': '[Verse]\\n여름날 숲속에서\\n우리 사랑해요\\n바람 불어오는 길\\n행복 가득해요\\n\\n[Verse 2]\\n푸른 나무 사이로\\n햇살 비춰줄 때\\n웃음소리 가득한\\n우리 가족 함께해\\n\\n[Chorus]\\n숲속으로 떠나요\\n다같이 손잡고\\n추억을 만들어요\\n여름날 속으로\\n\\n[Bridge]\\n숲속 향기 맡으며\\n이 순간 느끼며\\n모든 걱정 날려요\\n여름날의 행복\\n\\n[Verse 3]\\n파란 하늘 아래서\\n마음 편안해요\\n사랑하는 가족과\\n함께라서 좋아요\\n\\n[Chorus]\\n숲속으로 떠나요\\n다같이 손잡고\\n추억을 만들어요\\n여름날 속으로', 'type': 'gen', 'tags': 'melodic acoustic pop'}]\n",
      "*제목:숲속 여행\n",
      "*가사:[Verse]\n",
      "여름날 숲속에서\n",
      "우리 사랑해요\n",
      "바람 불어오는 길\n",
      "행복 가득해요\n",
      "[Verse 2]\n",
      "푸른 나무 사이로\n",
      "햇살 비춰줄 때\n",
      "웃음소리 가득한\n",
      "우리 가족 함께해\n",
      "[Chorus]\n",
      "숲속으로 떠나요\n",
      "다같이 손잡고\n",
      "추억을 만들어요\n",
      "여름날 속으로\n",
      "[Bridge]\n",
      "숲속 향기 맡으며\n",
      "이 순간 느끼며\n",
      "모든 걱정 날려요\n",
      "여름날의 행복\n",
      "[Verse 3]\n",
      "파란 하늘 아래서\n",
      "마음 편안해요\n",
      "사랑하는 가족과\n",
      "함께라서 좋아요\n",
      "[Chorus]\n",
      "숲속으로 떠나요\n",
      "다같이 손잡고\n",
      "추억을 만들어요\n",
      "여름날 속으로\n"
     ]
    }
   ],
   "source": [
    "# 음악 파일(mp3,mp4) 목록 얻기\n",
    "# => 음악 ids 입력후 음악 파일(mp3,mp4) 목록 얻기\n",
    "\n",
    "start_time = time.time()\n",
    "\n",
    "ids:list = ['efd952d7-6d00-4ce6-b5a8-36d2e59996fb', 'b90f200b-6960-47a8-9b89-cb5d07d964e6']\n",
    "#ids:list = ['77e86601-bd3a-40ed-88cb-3bcede7de93b']\n",
    "#ids:list = res\n",
    "\n",
    "host = \"http://192.168.0.61:3000\"\n",
    "\n",
    "status, datalist = suno.getfile_by_ids(ids=ids, host=host, max_retries=1)\n",
    "\n",
    "# 소요된 시간을 계산합니다.\n",
    "end_time = time.time()\n",
    "elapsed_time = \"{:.2f}\".format(end_time - start_time)\n",
    "print(f'*time:{elapsed_time}')\n",
    "\n",
    "print(f'*status:{status}')\n",
    "print(f'*datalist:{datalist}')\n",
    "print(f'*제목:{datalist[0][\"title\"]}')\n",
    "print(f'*가사:{datalist[0][\"lyric\"]}')"
   ]
  },
  {
   "cell_type": "code",
   "execution_count": 3,
   "id": "f154733c-ed11-4137-b9b2-c911d0e3ab6e",
   "metadata": {},
   "outputs": [
    {
     "name": "stdout",
     "output_type": "stream",
     "text": [
      "['https://cdn1.suno.ai/77e86601-bd3a-40ed-88cb-3bcede7de93b.mp4']\n"
     ]
    }
   ],
   "source": [
    "ids:list = []\n",
    "for data in datalist:\n",
    "    ids.append(data[\"video_url\"])\n",
    "\n",
    "print(ids)"
   ]
  },
  {
   "cell_type": "code",
   "execution_count": 2,
   "id": "70b52ba1-77d9-42c6-8688-21d42fe9c2fc",
   "metadata": {},
   "outputs": [
    {
     "name": "stdout",
     "output_type": "stream",
     "text": [
      "['m_dwSFS_CS_ATTR_01', '694b9481-cb93-4bf3-b265-d1c36c87b7f7']\n"
     ]
    }
   ],
   "source": [
    "msg = \"^음악생성확인^\\nm_dwSFS_CS_ATTR_01, 694b9481-cb93-4bf3-b265-d1c36c87b7f7\"\n",
    "\n",
    "# 1. 개행 문자('\\n')를 기준으로 msg를 분리합니다.\n",
    "parts = msg.split('\\n')\n",
    "\n",
    "# 2. 두 번째 부분(인덱스 1)에서 ','로 구분하여 리스트로 만듭니다.\n",
    "ids = parts[1].split(', ')\n",
    "\n",
    "print(ids)"
   ]
  },
  {
   "cell_type": "code",
   "execution_count": 3,
   "id": "a8953e2b-abd7-48af-9f5b-348e0d7f68b3",
   "metadata": {},
   "outputs": [
    {
     "data": {
      "text/plain": [
       "'m_dwSFS_CS_ATTR_01, 694b9481-cb93-4bf3-b265-d1c36c87b7f7'"
      ]
     },
     "execution_count": 3,
     "metadata": {},
     "output_type": "execute_result"
    }
   ],
   "source": [
    "parts[1]"
   ]
  },
  {
   "cell_type": "code",
   "execution_count": null,
   "id": "88a49709-cd3e-4086-85b9-8d0729c027c4",
   "metadata": {},
   "outputs": [],
   "source": []
  }
 ],
 "metadata": {
  "kernelspec": {
   "display_name": "Python 3 (ipykernel)",
   "language": "python",
   "name": "python3"
  },
  "language_info": {
   "codemirror_mode": {
    "name": "ipython",
    "version": 3
   },
   "file_extension": ".py",
   "mimetype": "text/x-python",
   "name": "python",
   "nbconvert_exporter": "python",
   "pygments_lexer": "ipython3",
   "version": "3.9.7"
  }
 },
 "nbformat": 4,
 "nbformat_minor": 5
}
