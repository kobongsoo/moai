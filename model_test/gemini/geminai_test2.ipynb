{
 "cells": [
  {
   "cell_type": "code",
   "execution_count": null,
   "id": "5490dccb-3f7f-4656-8f3a-396fbb886c87",
   "metadata": {},
   "outputs": [],
   "source": [
    "# Gemini API 를 이용한 gemini 연동 테스트\n",
    "# - GOOGLE_API_KEY 발급 받아야 함. => ai.google.dev\n",
    "# 출처 : https://wikidocs.net/228927\n",
    "#\n",
    "# 구글 제미나이 SDK 설치\n",
    "##!pip install google-generativeai\n",
    "\n",
    "# 화경변수 설정 donenv 패키지 설치\n",
    "##!pip install python-dotenv\n",
    "import sys\n",
    "sys.path.append('../../')\n",
    "from utils import SqliteDB, generate_Gemini_multi\n",
    "userdb = SqliteDB('./kakao.db')\n"
   ]
  },
  {
   "cell_type": "code",
   "execution_count": null,
   "id": "531df421-f6f6-4f0d-b59b-7b758fe9e295",
   "metadata": {},
   "outputs": [],
   "source": [
    "userdb.execute('DROP TABLE IF EXISTS assistants')  # assistants 테이블 삭제\n",
    "userdb.execute('CREATE TABLE assistants(id TEXT, uid TEXT, prequery TEXT, preanswer TEXT)')"
   ]
  },
  {
   "cell_type": "code",
   "execution_count": null,
   "id": "f464f1af-7806-4408-842a-d22a7c02e0cf",
   "metadata": {},
   "outputs": [],
   "source": [
    "userdb.delete_assistants(user_id='test1')"
   ]
  },
  {
   "cell_type": "code",
   "execution_count": null,
   "id": "0b4d5ba1-1cfa-43b7-ac7a-24cd28464407",
   "metadata": {},
   "outputs": [],
   "source": [
    "userdb.insert_assistants(user_id='test1', prequery='질문1', preanswer='답변1')"
   ]
  },
  {
   "cell_type": "code",
   "execution_count": null,
   "id": "d7526638-90a8-4509-9faa-81d1376e1b27",
   "metadata": {},
   "outputs": [],
   "source": [
    "res = userdb.select_assistants(user_id='test1')\n",
    "\n",
    "print(res)\n",
    "print(type(res))\n",
    "\n",
    "res2:list = []\n",
    "if res != -1:\n",
    "    for res1 in res:\n",
    "        pretest:str = ''\n",
    "        if res1['prequery']:\n",
    "            pretext = f\"{res1['prequery']}\\n{res1['preanswer']}\"\n",
    "        else:\n",
    "            pretext = f\"{res1['preanswer']}\"\n",
    "            \n",
    "        res2.append(pretext)\n",
    "     \n",
    "    print(res2)"
   ]
  },
  {
   "cell_type": "code",
   "execution_count": null,
   "id": "7dfe57d4-4700-4c68-a3ca-0c7783677724",
   "metadata": {},
   "outputs": [],
   "source": [
    "# 루트경로에 .env 파일을 만들고, GOOGLE_API_KEY='{API_KEY}'식으로 입력한다.\n",
    "# 예) GOOGLE_API_KEY='AIzaxxxxxxxxxxxxxxxxxxxxxxxxxxx'\n",
    "\n",
    "# API 키를 환경변수로 관리하기 위한 .env설정 파일 로딩\n",
    "import os\n",
    "from dotenv import load_dotenv\n",
    "\n",
    "load_dotenv() # GOOGLE_API_KEY 정보 로드\n",
    "\n",
    "#GOOGLE_API_KEY = os.environ['GOOGLE_API_KEY']\n",
    "GOOGLE_API_KEY = \"AIxxxxx\"\n",
    "print(f\"[API KEY]\\n{GOOGLE_API_KEY}\")\n"
   ]
  },
  {
   "cell_type": "code",
   "execution_count": null,
   "id": "bd76c246-3062-40fa-8e60-53495342f001",
   "metadata": {},
   "outputs": [],
   "source": [
    "# 첫번째 Gemini로 쿼리 날림.\n",
    "# => gemini 모델 : https://cloud.google.com/vertex-ai/docs/generative-ai/learn/model-versioning?hl=ko\n",
    "user_id = 'test1'\n",
    "model_name = 'gemini-pro'\n",
    "google_api_key = GOOGLE_API_KEY\n",
    "\n",
    "prequerys:list = []\n",
    "preanswers:list = []\n",
    "\n",
    "res = userdb.select_assistants(user_id=user_id)\n",
    "if res != -1:\n",
    "    for res1 in res:\n",
    "        prequerys.append(res1['prequery'])\n",
    "        preanswers.append(res1['preanswer'])\n",
    "\n",
    "print(f'[prequerys] {prequerys}\\n')\n",
    "print(f'[preanswers] {preanswers}\\n')\n",
    "\n",
    "prompt = '''\n",
    "제주도 애들과 갈만한 장소 3곳 추천\n",
    "'''\n",
    "answer, error = generate_Gemini_multi(model_name=model_name, prompt=prompt, google_api_key=google_api_key,\n",
    "                                     prequerys=prequerys, preanswers=preanswers)\n",
    "\n",
    "# assistant db에 추가 \n",
    "if error==0:\n",
    "    ret = userdb.insert_assistants(user_id=user_id, prequery=prompt, preanswer=answer)\n",
    "    print(f'*db insert : {ret}=>prompt: {prompt}')\n",
    "        \n",
    "print(f'[답변:{error}] {answer}')\n",
    "print()\n"
   ]
  },
  {
   "cell_type": "code",
   "execution_count": null,
   "id": "8e81f8b0-eb39-49ad-92a8-a7735f51dc0c",
   "metadata": {},
   "outputs": [],
   "source": [
    "user_id = 'test1'\n",
    "model_name = 'gemini-pro'\n",
    "google_api_key = GOOGLE_API_KEY\n",
    "\n",
    "prequerys:list = []\n",
    "preanswers:list = []\n",
    "\n",
    "res = userdb.select_assistants(user_id=user_id)\n",
    "\n",
    "if res != -1:\n",
    "    for res1 in res:\n",
    "        prequerys.append(res1['prequery'])\n",
    "        preanswers.append(res1['preanswer'])\n",
    "\n",
    "print(f'[prequerys] {prequerys}\\n')\n",
    "print(f'[preanswers] {preanswers}\\n')\n",
    "\n",
    "prompt = '''\n",
    "숙소도 2곳 추천\n",
    "'''\n",
    "answer, error = generate_Gemini_multi(model_name=model_name, prompt=prompt, google_api_key=google_api_key,\n",
    "                                     prequerys=prequerys, preanswers=preanswers)\n",
    "\n",
    "# assistant db에 추가 \n",
    "if error==0:\n",
    "    ret = userdb.insert_assistants(user_id=user_id, prequery=prompt, preanswer=answer)\n",
    "    print(f'*db insert : {ret}=>prompt: {prompt}')\n",
    "    \n",
    "print(f'[답변:{error}] {answer}')\n",
    "print()\n"
   ]
  },
  {
   "cell_type": "code",
   "execution_count": null,
   "id": "5da37d17-b576-4b80-831c-523ae38a36b3",
   "metadata": {},
   "outputs": [],
   "source": []
  }
 ],
 "metadata": {
  "kernelspec": {
   "display_name": "Python 3 (ipykernel)",
   "language": "python",
   "name": "python3"
  },
  "language_info": {
   "codemirror_mode": {
    "name": "ipython",
    "version": 3
   },
   "file_extension": ".py",
   "mimetype": "text/x-python",
   "name": "python",
   "nbconvert_exporter": "python",
   "pygments_lexer": "ipython3",
   "version": "3.9.7"
  }
 },
 "nbformat": 4,
 "nbformat_minor": 5
}
