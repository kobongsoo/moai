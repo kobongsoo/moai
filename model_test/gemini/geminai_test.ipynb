{
 "cells": [
  {
   "cell_type": "code",
   "execution_count": null,
   "id": "1a432bf6-32de-437b-91c4-1229ae585761",
   "metadata": {},
   "outputs": [],
   "source": [
    "# 참고 URL : \n",
    "# https://velog.io/@juunini/fast-and-hoxy-gemini?fbclid=IwZXh0bgNhZW0BMQABHfblKIXsQ7wAzTzs0OQZfSCKKmfLlGaYURbooq7Jl6RJGM8p0cEo6u8ZkA_aem_AU7Fjfs1Q7vGWO7a0CsfKU1gWEW9Bkh0bj1DjLT5yGqDRnJdrdcyrmnjB-iWz12qClE\n",
    "#!pip install langchain_google_vertexai"
   ]
  },
  {
   "cell_type": "code",
   "execution_count": null,
   "id": "79fdbf23-3bab-4b35-a1ab-e3370bcdd993",
   "metadata": {},
   "outputs": [],
   "source": [
    "# 새 프로젝트 만들기 - 프로젝트 이름 : vertexAI\n",
    "# API 및 서비스 > 사용 설정된 API 및 서비스 > + API 및 서비스 사용 설정 => Vertex AI API > 사용 설정\n",
    "# IAM 및 관리자 > 서비스 게정 : +서비스 계정 만들기 => 권한 부여에서 역활: \"Vertex AI 서비스 에이전트\" 검색 후 선택\n",
    "# 서비스 계정 클릭 > 키 에서 : 키 추가 => 새 키 만들기 => JSON 선택 => .JSON 파일 다운로드 됨."
   ]
  },
  {
   "cell_type": "code",
   "execution_count": 1,
   "id": "c6847c24-1730-4bfb-8c2d-e21ae2a85bf3",
   "metadata": {},
   "outputs": [
    {
     "name": "stdout",
     "output_type": "stream",
     "text": [
      "## 모코엠시스: 간략한 소개\n",
      "\n",
      "모코엠시스는 아쉽게도 제가 가지고 있는 정보가 제한적이라 자세한 설명은 어렵습니다. \n",
      "\n",
      "다만, 이름으로 미루어 짐작해보면 **\"엠시스\" 라는 단어는 \"M-Systems\" 또는 \"MC Systems\"** 의 줄임말일 가능성이 높아 보입니다. \n",
      "\n",
      "**\"M-Systems\"** 는 플래시 메모리 분야의 선두 기업 중 하나였지만, 2006년에 SanDisk에 인수되었습니다. 따라서 현재는 존재하지 않는 회사입니다. \n",
      "\n",
      "**\"MC Systems\"** 는 다양한 회사에서 사용하는 이름으로, IT 시스템 개발, 컨설팅, 유지보수 등 다양한 분야에서 활동하는 회사들이 있습니다. \n",
      "\n",
      "따라서 \"모코엠시스\" 가 어떤 회사인지 정확히 파악하려면 **추가 정보가 필요합니다.** 예를 들어, 회사의 홈페이지 주소, 주요 사업 분야, 위치 등을 알려주시면 더 자세한 정보를 찾아볼 수 있을 것 같습니다.\n",
      "\n"
     ]
    }
   ],
   "source": [
    "import os\n",
    "from langchain_google_vertexai import ChatVertexAI\n",
    "\n",
    "# 인증 정보 설정\n",
    "# 다운로드 된 JSON 파일명 지정.\n",
    "os.environ[\"GOOGLE_APPLICATION_CREDENTIALS\"] = \"vertexai-421205-1ad7349001cf.json\"\n",
    "\n",
    "# 모델 로딩\n",
    "# 모델 : gemini-pro, gemini-1.5-pro-preview-0409\n",
    "# 모델 종류는 : Vertex AI > 모델가든 클릭 후 확인 가능.\n",
    "model = ChatVertexAI(model_name=\"gemini-1.5-pro-preview-0409\")\n",
    "\n",
    "print(model.invoke(\"모코엠시스 회사에 대해 알려줘\").content)"
   ]
  },
  {
   "cell_type": "code",
   "execution_count": null,
   "id": "e4390785-b25b-4cfd-986c-68a618350900",
   "metadata": {},
   "outputs": [],
   "source": []
  }
 ],
 "metadata": {
  "kernelspec": {
   "display_name": "Python 3 (ipykernel)",
   "language": "python",
   "name": "python3"
  },
  "language_info": {
   "codemirror_mode": {
    "name": "ipython",
    "version": 3
   },
   "file_extension": ".py",
   "mimetype": "text/x-python",
   "name": "python",
   "nbconvert_exporter": "python",
   "pygments_lexer": "ipython3",
   "version": "3.10.12"
  }
 },
 "nbformat": 4,
 "nbformat_minor": 5
}
