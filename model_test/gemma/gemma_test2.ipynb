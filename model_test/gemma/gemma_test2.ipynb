{
 "cells": [
  {
   "cell_type": "code",
   "execution_count": null,
   "id": "b3e6959f-5d61-4f63-ab47-49f623c4ddda",
   "metadata": {},
   "outputs": [],
   "source": [
    "import torch\n",
    "from datasets import Dataset, load_dataset\n",
    "from transformers import AutoTokenizer, AutoModelForCausalLM, BitsAndBytesConfig, pipeline, TrainingArguments\n",
    "from peft import LoraConfig, PeftModel\n",
    "from trl import SFTTrainer"
   ]
  },
  {
   "cell_type": "code",
   "execution_count": null,
   "id": "e9acbcbc-0504-4407-840f-7afbfc9f83e1",
   "metadata": {},
   "outputs": [],
   "source": [
    "FINETUNE_MODEL = \"./gemma-2b-it-qa-ko\" # \"google/gemma-2b-it\", \"./gemma-2b-it-qa-ko\"\n",
    "TOKENIZER = \"./gemma-2b-it-tokenizer\"\n",
    "\n",
    "model = AutoModelForCausalLM.from_pretrained(FINETUNE_MODEL, device_map={\"\":0}, push_to_hub=False)\n",
    "tokenizer = AutoTokenizer.from_pretrained(TOKENIZER, add_special_tokens=True, push_to_hub=False)"
   ]
  },
  {
   "cell_type": "code",
   "execution_count": null,
   "id": "f0a12f4e-c355-4321-a988-38b94fe6dd45",
   "metadata": {},
   "outputs": [],
   "source": [
    "query = '''\n",
    "경조사 지원 규정\n",
    "1. 적용대상\n",
    "계약직 사원을 포함한 임직원(고문 및 용역은 사장이 별도로 결정)\n",
    "2. 경조사 지원기준\n",
    "경사의 경우, 본인 결혼 시 5일의 휴가와 50만 원의 금액, 화환이 지급됩니다.\n",
    "자녀 결혼 시 1일의 휴가와 30만 원의 금액, 화환이 지급됩니다.\n",
    "형제자매 결혼 시 1일의 휴가와 10만 원의 금액이 지급됩니다.\n",
    "자녀 출산(배우자) 시 10일의 휴가와 10만 원의 금액이 지급되며, 1회 분할 사용이 가능합니다.\n",
    "부모 회갑 시 1일의 휴가와 20만 원의 금액이 지급됩니다.\n",
    "배우자 부모 회갑 시 1일의 휴가와 20만 원의 금액이 지급됩니다.\n",
    "부모 고희(칠순) 시 1일의 휴가와 30만 원의 금액이 지급됩니다.\n",
    "배우자 부모 고희 시 1일의 휴가와 30만 원의 금액이 지급됩니다.\n",
    "조사의 경우, 본인 사망 시 5일의 휴가와 100만 원의 금액, 조화가 지급됩니다.\n",
    "배우자 사망 시 5일의 휴가와 100만 원의 금액, 조화가 지급됩니다.\n",
    "부모 사망 시 5일의 휴가와 100만 원의 금액, 조화가 지급됩니다.\n",
    "자녀 사망 시 5일의 휴가와 100만 원의 금액, 조화가 지급됩니다.\n",
    "배우자 부모 사망 시 5일의 휴가와 50만 원의 금액, 조화가 지급됩니다.\n",
    "형제자매 사망 시 3일의 휴가와 30만 원의 금액, 조화가 지급됩니다.\n",
    "조부모/외조부모 사망 시 3일의 휴가와 20만 원의 금액이 지급됩니다.\n",
    "\n",
    "1. 목적\n",
    "이 규정은 주식회사 모코엠시스에 근무하는 직원의 급여에 관한 제반사항을 정하여 합리적인 급여관리를 실행함을 목적으로 한다.\n",
    "2. 적용범위\n",
    "직원의 급여는 관계법령, 기타 별도로 정한 것을 제외하고는 이 규정이 정하는 바에 따른다.\n",
    "3. 급여의 구성\n",
    "3.1 급여는 기본급, 제수당, 상여금, 퇴직금으로 구분한다.\n",
    "3.2 일반적으로 월급여라 함은 기본급과 제수당을 합한 금액을 말한다.\n",
    "4. 급여조정\n",
    "급여의 인상은 년 1회 1월 1일부로 실시함을 원칙으로 한다.\n",
    "\n",
    "Q: 부모가 돌아가셨을때 유급휴가는 며칠?\n",
    "'''\n",
    "\n",
    "pipe = pipeline(\"text-generation\", model=model, tokenizer=tokenizer, max_new_tokens=512)\n",
    "messages = [\n",
    "    {\n",
    "        \"role\": \"user\",\n",
    "        \"content\": \"{}\".format(query)\n",
    "    }\n",
    "]\n",
    "prompt = pipe.tokenizer.apply_chat_template(messages, tokenize=False, add_generation_prompt=True)\n",
    "\n",
    "print(prompt)"
   ]
  },
  {
   "cell_type": "code",
   "execution_count": null,
   "id": "c2309206-b30b-4ac4-aa23-df720774ab22",
   "metadata": {},
   "outputs": [],
   "source": [
    "outputs = pipe(\n",
    "    prompt,\n",
    "    do_sample=True,\n",
    "    temperature=0.2,\n",
    "    top_k=50,\n",
    "    top_p=0.95,\n",
    "    add_special_tokens=True\n",
    ")\n",
    "print(outputs[0][\"generated_text\"][len(prompt):])"
   ]
  },
  {
   "cell_type": "code",
   "execution_count": null,
   "id": "82c5b4f6-fb3c-4c09-8f7e-fb85cf03a617",
   "metadata": {},
   "outputs": [],
   "source": [
    "outputs"
   ]
  },
  {
   "cell_type": "code",
   "execution_count": null,
   "id": "b4adefc9-60e4-432c-a892-3be359f5a667",
   "metadata": {},
   "outputs": [],
   "source": []
  }
 ],
 "metadata": {
  "kernelspec": {
   "display_name": "Python 3 (ipykernel)",
   "language": "python",
   "name": "python3"
  },
  "language_info": {
   "codemirror_mode": {
    "name": "ipython",
    "version": 3
   },
   "file_extension": ".py",
   "mimetype": "text/x-python",
   "name": "python",
   "nbconvert_exporter": "python",
   "pygments_lexer": "ipython3",
   "version": "3.9.7"
  }
 },
 "nbformat": 4,
 "nbformat_minor": 5
}
