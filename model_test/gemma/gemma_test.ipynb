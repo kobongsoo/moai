{
 "cells": [
  {
   "cell_type": "code",
   "execution_count": null,
   "id": "dc15de4e-1f1a-4437-be55-dc4332d442da",
   "metadata": {},
   "outputs": [],
   "source": [
    "!pip3 install -q -U transformers==4.38.2\n",
    "!pip3 install -q -U datasets==2.18.0\n",
    "!pip3 install -q -U bitsandbytes==0.42.0\n",
    "!pip3 install -q -U peft==0.9.0\n",
    "!pip3 install -q -U trl==0.7.11\n",
    "!pip3 install -q -U accelerate==0.27.2"
   ]
  },
  {
   "cell_type": "code",
   "execution_count": null,
   "id": "48125f4b-b5e7-4e86-adea-c5e1830d40ca",
   "metadata": {},
   "outputs": [],
   "source": [
    "import torch\n",
    "from datasets import Dataset, load_dataset\n",
    "from transformers import AutoTokenizer, AutoModelForCausalLM, BitsAndBytesConfig, pipeline, TrainingArguments\n",
    "from peft import LoraConfig, PeftModel\n",
    "from trl import SFTTrainer"
   ]
  },
  {
   "cell_type": "code",
   "execution_count": null,
   "id": "9cd2ba5b-c357-41dd-9892-aaafea209b4a",
   "metadata": {},
   "outputs": [],
   "source": [
    "from huggingface_hub import notebook_login\n",
    "notebook_login()"
   ]
  },
  {
   "cell_type": "code",
   "execution_count": null,
   "id": "6153e177-5320-44d3-b0d6-4d089d75b11c",
   "metadata": {},
   "outputs": [],
   "source": [
    "from datasets import load_dataset\n",
    "dataset = load_dataset(\"daekeun-ml/naver-news-summarization-ko\")"
   ]
  },
  {
   "cell_type": "code",
   "execution_count": null,
   "id": "5cc2e283-bf76-459e-b4d9-5f8bdf47605f",
   "metadata": {},
   "outputs": [],
   "source": [
    "dataset"
   ]
  },
  {
   "cell_type": "code",
   "execution_count": null,
   "id": "f6914b75-0c6b-491f-aed6-9000d85d220a",
   "metadata": {},
   "outputs": [],
   "source": [
    "dataset['train'][0]"
   ]
  },
  {
   "cell_type": "code",
   "execution_count": null,
   "id": "97eb59a6-4978-4b81-aa2d-544a3644ff43",
   "metadata": {},
   "outputs": [],
   "source": [
    "FINETUNE_MODEL = \"./gemma-2b-it-sum-ko\"\n",
    "TOKENIZER = \"./gemma-2b-it-sum-ko-tokenizer\"\n",
    "\n",
    "\n",
    "model = AutoModelForCausalLM.from_pretrained(FINETUNE_MODEL, device_map={\"\":0}, push_to_hub=False)\n",
    "tokenizer = AutoTokenizer.from_pretrained(TOKENIZER, add_special_tokens=True, push_to_hub=False)"
   ]
  },
  {
   "cell_type": "code",
   "execution_count": null,
   "id": "98ebf176-655b-4a7e-8e78-5382d7cbf30d",
   "metadata": {},
   "outputs": [],
   "source": [
    "doc = dataset['train']['document'][0]"
   ]
  },
  {
   "cell_type": "code",
   "execution_count": null,
   "id": "2fafb38d-e00c-4c34-b52b-353c3ee5001b",
   "metadata": {},
   "outputs": [],
   "source": [
    "pipe = pipeline(\"text-generation\", model=model, tokenizer=tokenizer, max_new_tokens=512)"
   ]
  },
  {
   "cell_type": "code",
   "execution_count": null,
   "id": "cb7e6ec0-3e50-4a93-b0af-6c130b7cc42a",
   "metadata": {},
   "outputs": [],
   "source": [
    "messages = [\n",
    "    {\n",
    "        \"role\": \"user\",\n",
    "        \"content\": \"다음 글을 요약해주세요 :\\n\\n{}\".format(doc)\n",
    "    }\n",
    "]\n",
    "prompt = pipe.tokenizer.apply_chat_template(messages, tokenize=False, add_generation_prompt=True)"
   ]
  },
  {
   "cell_type": "code",
   "execution_count": null,
   "id": "bada5c9f-12b3-4806-8be0-71905045db25",
   "metadata": {},
   "outputs": [],
   "source": [
    "prompt"
   ]
  },
  {
   "cell_type": "code",
   "execution_count": null,
   "id": "91ab8401-ea62-491f-bee9-830659734676",
   "metadata": {},
   "outputs": [],
   "source": [
    "outputs = pipe(\n",
    "    prompt,\n",
    "    do_sample=True,\n",
    "    temperature=0.2,\n",
    "    top_k=50,\n",
    "    top_p=0.95,\n",
    "    add_special_tokens=True\n",
    ")"
   ]
  },
  {
   "cell_type": "code",
   "execution_count": null,
   "id": "531902d5-9180-4797-a0ae-ea1d06db1cac",
   "metadata": {},
   "outputs": [],
   "source": [
    "print(outputs[0][\"generated_text\"][len(prompt):])"
   ]
  },
  {
   "cell_type": "code",
   "execution_count": null,
   "id": "e3b149fb-b002-4da0-9e66-7be5075335f4",
   "metadata": {},
   "outputs": [],
   "source": []
  }
 ],
 "metadata": {
  "kernelspec": {
   "display_name": "Python 3 (ipykernel)",
   "language": "python",
   "name": "python3"
  },
  "language_info": {
   "codemirror_mode": {
    "name": "ipython",
    "version": 3
   },
   "file_extension": ".py",
   "mimetype": "text/x-python",
   "name": "python",
   "nbconvert_exporter": "python",
   "pygments_lexer": "ipython3",
   "version": "3.9.7"
  }
 },
 "nbformat": 4,
 "nbformat_minor": 5
}
