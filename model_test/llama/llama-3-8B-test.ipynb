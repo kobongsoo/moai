{
 "cells": [
  {
   "cell_type": "code",
   "execution_count": null,
   "id": "8c18af00-c21c-4669-bbb2-4cbf8daeef00",
   "metadata": {},
   "outputs": [],
   "source": [
    "!pip3 install -q -U torch\n",
    "!pip3 install -q -U transformers==4.38.2\n",
    "!pip3 install -q -U datasets==2.18.0\n",
    "!pip3 install -q -U bitsandbytes==0.42.0\n",
    "!pip3 install -q -U peft==0.9.0\n",
    "!pip3 install -q -U trl==0.7.11\n",
    "!pip3 install -q -U accelerate==0.27.2"
   ]
  },
  {
   "cell_type": "code",
   "execution_count": 2,
   "id": "861b9478-9f02-4900-84fd-a13930064d39",
   "metadata": {
    "tags": []
   },
   "outputs": [
    {
     "data": {
      "application/vnd.jupyter.widget-view+json": {
       "model_id": "2313872ff8e44373b83a546ca8ab2f1c",
       "version_major": 2,
       "version_minor": 0
      },
      "text/plain": [
       "Loading checkpoint shards:   0%|          | 0/4 [00:00<?, ?it/s]"
      ]
     },
     "metadata": {},
     "output_type": "display_data"
    },
    {
     "name": "stderr",
     "output_type": "stream",
     "text": [
      "Special tokens have been added in the vocabulary, make sure the associated word embeddings are fine-tuned or trained.\n",
      "Setting `pad_token_id` to `eos_token_id`:128001 for open-end generation.\n"
     ]
    },
    {
     "data": {
      "text/plain": [
       "[{'generated_text': 'Hey how are you doing today? I am doing well. I am a little bit tired because I have been working a lot. I am a little bit tired because I have been working a lot. I am a little bit tired because I have been working a lot. I am a little bit tired because I have been working a lot. I am a little bit tired because I have been working a lot. I am a little bit tired because I have been working a lot. I am a little bit tired because I have been working a lot. I am a little bit tired because I have been working a lot. I am a little bit tired because I have been working'}]"
      ]
     },
     "execution_count": 2,
     "metadata": {},
     "output_type": "execute_result"
    }
   ],
   "source": [
    "import time\n",
    "import transformers\n",
    "import torch\n",
    "\n",
    "model_id = \"meta-llama/Meta-Llama-3-8B\"\n",
    "\n",
    "pipeline = transformers.pipeline(\n",
    "    \"text-generation\", model=model_id, model_kwargs={\"torch_dtype\": torch.bfloat16}, device_map=\"auto\", max_new_tokens=128\n",
    ")\n",
    "\n",
    "start_time = time.time()\n",
    "\n",
    "pipeline(\"Hey how are you doing today?\")\n",
    "\n",
    "# 소요된 시간을 계산합니다.\n",
    "end_time = time.time()\n",
    "elapsed_time = \"{:.2f}\".format(end_time - start_time)\n",
    "print(f'time:{elapsed_time}\\n')"
   ]
  },
  {
   "cell_type": "code",
   "execution_count": 6,
   "id": "a95f354a-73c7-4ca0-b71e-7ede30b06217",
   "metadata": {
    "tags": []
   },
   "outputs": [
    {
     "name": "stderr",
     "output_type": "stream",
     "text": [
      "Setting `pad_token_id` to `eos_token_id`:128001 for open-end generation.\n"
     ]
    },
    {
     "name": "stdout",
     "output_type": "stream",
     "text": [
      "[{'generated_text': '\\n경조사 지원 규정\\n1. 적용대상\\n계약직 사원을 포함한 임직원(고문 및 용역은 사장이 별도로 결정)\\n2. 경조사 지원기준\\n경사의 경우, 본인 결혼 시 5일의 휴가와 50만 원의 금액, 화환이 지급됩니다.\\n자녀 결혼 시 1일의 휴가와 30만 원의 금액, 화환이 지급됩니다.\\n형제자매 결혼 시 1일의 휴가와 10만 원의 금액이 지급됩니다.\\n자녀 출산(배우자) 시 10일의 휴가와 10만 원의 금액이 지급되며, 1회 분할 사용이 가능합니다.\\n부모 회갑 시 1일의 휴가와 20만 원의 금액이 지급됩니다.\\n배우자 부모 회갑 시 1일의 휴가와 20만 원의 금액이 지급됩니다.\\n부모 고희(칠순) 시 1일의 휴가와 30만 원의 금액이 지급됩니다.\\n배우자 부모 고희 시 1일의 휴가와 30만 원의 금액이 지급됩니다.\\n조사의 경우, 본인 사망 시 5일의 휴가와 100만 원의 금액, 조화가 지급됩니다.\\n배우자 사망 시 5일의 휴가와 100만 원의 금액, 조화가 지급됩니다.\\n부모 사망 시 5일의 휴가와 100만 원의 금액, 조화가 지급됩니다.\\n자녀 사망 시 5일의 휴가와 100만 원의 금액, 조화가 지급됩니다.\\n배우자 부모 사망 시 5일의 휴가와 50만 원의 금액, 조화가 지급됩니다.\\n형제자매 사망 시 3일의 휴가와 30만 원의 금액, 조화가 지급됩니다.\\n조부모/외조부모 사망 시 3일의 휴가와 20만 원의 금액이 지급됩니다.\\n\\n1. 목적\\n이 규정은 주식회사 모코엠시스에 근무하는 직원의 급여에 관한 제반사항을 정하여 합리적인 급여관리를 실행함을 목적으로 한다.\\n2. 적용범위\\n직원의 급여는 관계법령, 기타 별도로 정한 것을 제외하고는 이 규정이 정하는 바에 따른다.\\n3. 급여의 구성\\n3.1 급여는 기본급, 제수당, 상여금, 퇴직금으로 구분한다.\\n3.2 일반적으로 월급여라 함은 기본급과 제수당을 합한 금액을 말한다.\\n4. 급여조정\\n급여의 인상은 년 1회 1월 1일부로 실시함을 원칙으로 한다.\\n\\nQ: 부모가 돌아가셨을때 유급휴가는 며칠?\\nA: 부모가 돌아가셨을때 유급휴가는 5일입니다.\\n\\nQ: 부모가 돌아가셨을때 유급휴가에 대한 조화는 얼마인가요?\\nA: 부모가 돌아가셨을때 유급휴가에 대한 조화는 100만원입니다.\\n\\nQ: 부모가 돌아가셨을때 유급휴가에 대한 조화는 1회분인가요?\\nA: 부모가 돌아가셨을때 유급휴가에 대한 조화는 1회분입니다.\\n\\nQ: 부모가 돌아가셨을때 유'}]\n",
      "time:45.45\n",
      "\n"
     ]
    }
   ],
   "source": [
    "query = '''\n",
    "경조사 지원 규정\n",
    "1. 적용대상\n",
    "계약직 사원을 포함한 임직원(고문 및 용역은 사장이 별도로 결정)\n",
    "2. 경조사 지원기준\n",
    "경사의 경우, 본인 결혼 시 5일의 휴가와 50만 원의 금액, 화환이 지급됩니다.\n",
    "자녀 결혼 시 1일의 휴가와 30만 원의 금액, 화환이 지급됩니다.\n",
    "형제자매 결혼 시 1일의 휴가와 10만 원의 금액이 지급됩니다.\n",
    "자녀 출산(배우자) 시 10일의 휴가와 10만 원의 금액이 지급되며, 1회 분할 사용이 가능합니다.\n",
    "부모 회갑 시 1일의 휴가와 20만 원의 금액이 지급됩니다.\n",
    "배우자 부모 회갑 시 1일의 휴가와 20만 원의 금액이 지급됩니다.\n",
    "부모 고희(칠순) 시 1일의 휴가와 30만 원의 금액이 지급됩니다.\n",
    "배우자 부모 고희 시 1일의 휴가와 30만 원의 금액이 지급됩니다.\n",
    "조사의 경우, 본인 사망 시 5일의 휴가와 100만 원의 금액, 조화가 지급됩니다.\n",
    "배우자 사망 시 5일의 휴가와 100만 원의 금액, 조화가 지급됩니다.\n",
    "부모 사망 시 5일의 휴가와 100만 원의 금액, 조화가 지급됩니다.\n",
    "자녀 사망 시 5일의 휴가와 100만 원의 금액, 조화가 지급됩니다.\n",
    "배우자 부모 사망 시 5일의 휴가와 50만 원의 금액, 조화가 지급됩니다.\n",
    "형제자매 사망 시 3일의 휴가와 30만 원의 금액, 조화가 지급됩니다.\n",
    "조부모/외조부모 사망 시 3일의 휴가와 20만 원의 금액이 지급됩니다.\n",
    "\n",
    "1. 목적\n",
    "이 규정은 주식회사 모코엠시스에 근무하는 직원의 급여에 관한 제반사항을 정하여 합리적인 급여관리를 실행함을 목적으로 한다.\n",
    "2. 적용범위\n",
    "직원의 급여는 관계법령, 기타 별도로 정한 것을 제외하고는 이 규정이 정하는 바에 따른다.\n",
    "3. 급여의 구성\n",
    "3.1 급여는 기본급, 제수당, 상여금, 퇴직금으로 구분한다.\n",
    "3.2 일반적으로 월급여라 함은 기본급과 제수당을 합한 금액을 말한다.\n",
    "4. 급여조정\n",
    "급여의 인상은 년 1회 1월 1일부로 실시함을 원칙으로 한다.\n",
    "\n",
    "Q: 부모가 돌아가셨을때 유급휴가는 며칠?\n",
    "'''\n",
    "\n",
    "start_time = time.time()\n",
    "\n",
    "print(pipeline(query))\n",
    "\n",
    "# 소요된 시간을 계산합니다.\n",
    "end_time = time.time()\n",
    "elapsed_time = \"{:.2f}\".format(end_time - start_time)\n",
    "print(f'time:{elapsed_time}\\n')"
   ]
  },
  {
   "cell_type": "code",
   "execution_count": 1,
   "id": "909d59f6-ff76-4178-87c6-646ea7221564",
   "metadata": {
    "tags": []
   },
   "outputs": [
    {
     "name": "stdout",
     "output_type": "stream",
     "text": [
      "Wed Apr 24 09:11:28 2024       \n",
      "+---------------------------------------------------------------------------------------+\n",
      "| NVIDIA-SMI 535.161.07             Driver Version: 535.161.07   CUDA Version: 12.2     |\n",
      "|-----------------------------------------+----------------------+----------------------+\n",
      "| GPU  Name                 Persistence-M | Bus-Id        Disp.A | Volatile Uncorr. ECC |\n",
      "| Fan  Temp   Perf          Pwr:Usage/Cap |         Memory-Usage | GPU-Util  Compute M. |\n",
      "|                                         |                      |               MIG M. |\n",
      "|=========================================+======================+======================|\n",
      "|   0  NVIDIA A10G                    Off | 00000000:00:1B.0 Off |                    0 |\n",
      "|  0%   28C    P8              24W / 300W |      0MiB / 23028MiB |      0%      Default |\n",
      "|                                         |                      |                  N/A |\n",
      "+-----------------------------------------+----------------------+----------------------+\n",
      "|   1  NVIDIA A10G                    Off | 00000000:00:1D.0 Off |                    0 |\n",
      "|  0%   26C    P8              23W / 300W |      0MiB / 23028MiB |      0%      Default |\n",
      "|                                         |                      |                  N/A |\n",
      "+-----------------------------------------+----------------------+----------------------+\n",
      "                                                                                         \n",
      "+---------------------------------------------------------------------------------------+\n",
      "| Processes:                                                                            |\n",
      "|  GPU   GI   CI        PID   Type   Process name                            GPU Memory |\n",
      "|        ID   ID                                                             Usage      |\n",
      "|=======================================================================================|\n",
      "|  No running processes found                                                           |\n",
      "+---------------------------------------------------------------------------------------+\n"
     ]
    }
   ],
   "source": [
    "!nvidia-smi"
   ]
  },
  {
   "cell_type": "code",
   "execution_count": null,
   "id": "4fc98272-83ff-4cfd-a7ea-aa7a88e95d19",
   "metadata": {},
   "outputs": [],
   "source": []
  }
 ],
 "metadata": {
  "kernelspec": {
   "display_name": "Python 3 (ipykernel)",
   "language": "python",
   "name": "python3"
  },
  "language_info": {
   "codemirror_mode": {
    "name": "ipython",
    "version": 3
   },
   "file_extension": ".py",
   "mimetype": "text/x-python",
   "name": "python",
   "nbconvert_exporter": "python",
   "pygments_lexer": "ipython3",
   "version": "3.9.5"
  }
 },
 "nbformat": 4,
 "nbformat_minor": 5
}
